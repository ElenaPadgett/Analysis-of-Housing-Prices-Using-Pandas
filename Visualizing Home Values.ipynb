{
 "cells": [
  {
   "cell_type": "markdown",
   "metadata": {},
   "source": [
    "# Visualizing Home Values in Seattle and Boston"
   ]
  },
  {
   "cell_type": "code",
   "execution_count": 1,
   "metadata": {},
   "outputs": [],
   "source": [
    "import csv\n",
    "import os"
   ]
  },
  {
   "cell_type": "code",
   "execution_count": 2,
   "metadata": {},
   "outputs": [],
   "source": [
    "import pandas as pd\n",
    "import numpy as np\n",
    "import matplotlib.pyplot as plt"
   ]
  },
  {
   "cell_type": "code",
   "execution_count": 3,
   "metadata": {},
   "outputs": [],
   "source": [
    "import seaborn as sns\n",
    "sns.set_style(\"whitegrid\")"
   ]
  },
  {
   "cell_type": "code",
   "execution_count": 13,
   "metadata": {},
   "outputs": [],
   "source": [
    "import matplotlib.dates as mdates"
   ]
  },
  {
   "cell_type": "code",
   "execution_count": 4,
   "metadata": {},
   "outputs": [
    {
     "data": {
      "text/html": [
       "<div>\n",
       "<style scoped>\n",
       "    .dataframe tbody tr th:only-of-type {\n",
       "        vertical-align: middle;\n",
       "    }\n",
       "\n",
       "    .dataframe tbody tr th {\n",
       "        vertical-align: top;\n",
       "    }\n",
       "\n",
       "    .dataframe thead th {\n",
       "        text-align: right;\n",
       "    }\n",
       "</style>\n",
       "<table border=\"1\" class=\"dataframe\">\n",
       "  <thead>\n",
       "    <tr style=\"text-align: right;\">\n",
       "      <th></th>\n",
       "      <th>RegionID</th>\n",
       "      <th>SizeRank</th>\n",
       "      <th>RegionName</th>\n",
       "      <th>RegionType</th>\n",
       "      <th>StateName</th>\n",
       "      <th>State</th>\n",
       "      <th>Metro</th>\n",
       "      <th>CountyName</th>\n",
       "      <th>2000-01-31</th>\n",
       "      <th>2000-02-29</th>\n",
       "      <th>...</th>\n",
       "      <th>2022-01-31</th>\n",
       "      <th>2022-02-28</th>\n",
       "      <th>2022-03-31</th>\n",
       "      <th>2022-04-30</th>\n",
       "      <th>2022-05-31</th>\n",
       "      <th>2022-06-30</th>\n",
       "      <th>2022-07-31</th>\n",
       "      <th>2022-08-31</th>\n",
       "      <th>2022-09-30</th>\n",
       "      <th>2022-10-31</th>\n",
       "    </tr>\n",
       "  </thead>\n",
       "  <tbody>\n",
       "    <tr>\n",
       "      <td>0</td>\n",
       "      <td>6181</td>\n",
       "      <td>0</td>\n",
       "      <td>New York</td>\n",
       "      <td>city</td>\n",
       "      <td>NY</td>\n",
       "      <td>NY</td>\n",
       "      <td>New York-Newark-Jersey City, NY-NJ-PA</td>\n",
       "      <td>Queens County</td>\n",
       "      <td>253767.0</td>\n",
       "      <td>255586.0</td>\n",
       "      <td>...</td>\n",
       "      <td>733761.0</td>\n",
       "      <td>738811.0</td>\n",
       "      <td>745235.0</td>\n",
       "      <td>750940.0</td>\n",
       "      <td>757659.0</td>\n",
       "      <td>762851.0</td>\n",
       "      <td>766936.0</td>\n",
       "      <td>769342.0</td>\n",
       "      <td>771456.0</td>\n",
       "      <td>774132.0</td>\n",
       "    </tr>\n",
       "    <tr>\n",
       "      <td>1</td>\n",
       "      <td>12447</td>\n",
       "      <td>1</td>\n",
       "      <td>Los Angeles</td>\n",
       "      <td>city</td>\n",
       "      <td>CA</td>\n",
       "      <td>CA</td>\n",
       "      <td>Los Angeles-Long Beach-Anaheim, CA</td>\n",
       "      <td>Los Angeles County</td>\n",
       "      <td>246626.0</td>\n",
       "      <td>246869.0</td>\n",
       "      <td>...</td>\n",
       "      <td>1000394.0</td>\n",
       "      <td>1010508.0</td>\n",
       "      <td>1028347.0</td>\n",
       "      <td>1049762.0</td>\n",
       "      <td>1069084.0</td>\n",
       "      <td>1071542.0</td>\n",
       "      <td>1072346.0</td>\n",
       "      <td>1056961.0</td>\n",
       "      <td>1044717.0</td>\n",
       "      <td>1028985.0</td>\n",
       "    </tr>\n",
       "    <tr>\n",
       "      <td>2</td>\n",
       "      <td>39051</td>\n",
       "      <td>2</td>\n",
       "      <td>Houston</td>\n",
       "      <td>city</td>\n",
       "      <td>TX</td>\n",
       "      <td>TX</td>\n",
       "      <td>Houston-The Woodlands-Sugar Land, TX</td>\n",
       "      <td>Harris County</td>\n",
       "      <td>111380.0</td>\n",
       "      <td>111377.0</td>\n",
       "      <td>...</td>\n",
       "      <td>254526.0</td>\n",
       "      <td>257994.0</td>\n",
       "      <td>262481.0</td>\n",
       "      <td>267302.0</td>\n",
       "      <td>271901.0</td>\n",
       "      <td>275363.0</td>\n",
       "      <td>277586.0</td>\n",
       "      <td>278969.0</td>\n",
       "      <td>279206.0</td>\n",
       "      <td>279833.0</td>\n",
       "    </tr>\n",
       "    <tr>\n",
       "      <td>3</td>\n",
       "      <td>17426</td>\n",
       "      <td>3</td>\n",
       "      <td>Chicago</td>\n",
       "      <td>city</td>\n",
       "      <td>IL</td>\n",
       "      <td>IL</td>\n",
       "      <td>Chicago-Naperville-Elgin, IL-IN-WI</td>\n",
       "      <td>Cook County</td>\n",
       "      <td>165170.0</td>\n",
       "      <td>165509.0</td>\n",
       "      <td>...</td>\n",
       "      <td>299525.0</td>\n",
       "      <td>301079.0</td>\n",
       "      <td>303248.0</td>\n",
       "      <td>304806.0</td>\n",
       "      <td>307991.0</td>\n",
       "      <td>310419.0</td>\n",
       "      <td>311762.0</td>\n",
       "      <td>311400.0</td>\n",
       "      <td>311186.0</td>\n",
       "      <td>311233.0</td>\n",
       "    </tr>\n",
       "    <tr>\n",
       "      <td>4</td>\n",
       "      <td>6915</td>\n",
       "      <td>4</td>\n",
       "      <td>San Antonio</td>\n",
       "      <td>city</td>\n",
       "      <td>TX</td>\n",
       "      <td>TX</td>\n",
       "      <td>San Antonio-New Braunfels, TX</td>\n",
       "      <td>Bexar County</td>\n",
       "      <td>115484.0</td>\n",
       "      <td>115666.0</td>\n",
       "      <td>...</td>\n",
       "      <td>276017.0</td>\n",
       "      <td>280498.0</td>\n",
       "      <td>286224.0</td>\n",
       "      <td>291901.0</td>\n",
       "      <td>296995.0</td>\n",
       "      <td>299972.0</td>\n",
       "      <td>301044.0</td>\n",
       "      <td>301370.0</td>\n",
       "      <td>301196.0</td>\n",
       "      <td>300681.0</td>\n",
       "    </tr>\n",
       "    <tr>\n",
       "      <td>...</td>\n",
       "      <td>...</td>\n",
       "      <td>...</td>\n",
       "      <td>...</td>\n",
       "      <td>...</td>\n",
       "      <td>...</td>\n",
       "      <td>...</td>\n",
       "      <td>...</td>\n",
       "      <td>...</td>\n",
       "      <td>...</td>\n",
       "      <td>...</td>\n",
       "      <td>...</td>\n",
       "      <td>...</td>\n",
       "      <td>...</td>\n",
       "      <td>...</td>\n",
       "      <td>...</td>\n",
       "      <td>...</td>\n",
       "      <td>...</td>\n",
       "      <td>...</td>\n",
       "      <td>...</td>\n",
       "      <td>...</td>\n",
       "      <td>...</td>\n",
       "    </tr>\n",
       "    <tr>\n",
       "      <td>22446</td>\n",
       "      <td>54589</td>\n",
       "      <td>28439</td>\n",
       "      <td>Strawberry Point</td>\n",
       "      <td>city</td>\n",
       "      <td>IA</td>\n",
       "      <td>IA</td>\n",
       "      <td>NaN</td>\n",
       "      <td>Clayton County</td>\n",
       "      <td>NaN</td>\n",
       "      <td>NaN</td>\n",
       "      <td>...</td>\n",
       "      <td>119568.0</td>\n",
       "      <td>121120.0</td>\n",
       "      <td>121367.0</td>\n",
       "      <td>121539.0</td>\n",
       "      <td>121817.0</td>\n",
       "      <td>122423.0</td>\n",
       "      <td>122971.0</td>\n",
       "      <td>123438.0</td>\n",
       "      <td>123583.0</td>\n",
       "      <td>123844.0</td>\n",
       "    </tr>\n",
       "    <tr>\n",
       "      <td>22447</td>\n",
       "      <td>21230</td>\n",
       "      <td>28439</td>\n",
       "      <td>West Leipsic</td>\n",
       "      <td>city</td>\n",
       "      <td>OH</td>\n",
       "      <td>OH</td>\n",
       "      <td>NaN</td>\n",
       "      <td>Putnam County</td>\n",
       "      <td>NaN</td>\n",
       "      <td>NaN</td>\n",
       "      <td>...</td>\n",
       "      <td>84609.0</td>\n",
       "      <td>85550.0</td>\n",
       "      <td>85500.0</td>\n",
       "      <td>84738.0</td>\n",
       "      <td>84748.0</td>\n",
       "      <td>85225.0</td>\n",
       "      <td>86174.0</td>\n",
       "      <td>87019.0</td>\n",
       "      <td>87645.0</td>\n",
       "      <td>87992.0</td>\n",
       "    </tr>\n",
       "    <tr>\n",
       "      <td>22448</td>\n",
       "      <td>24470</td>\n",
       "      <td>28439</td>\n",
       "      <td>Eakly</td>\n",
       "      <td>city</td>\n",
       "      <td>OK</td>\n",
       "      <td>OK</td>\n",
       "      <td>NaN</td>\n",
       "      <td>Caddo County</td>\n",
       "      <td>NaN</td>\n",
       "      <td>NaN</td>\n",
       "      <td>...</td>\n",
       "      <td>NaN</td>\n",
       "      <td>NaN</td>\n",
       "      <td>NaN</td>\n",
       "      <td>NaN</td>\n",
       "      <td>NaN</td>\n",
       "      <td>NaN</td>\n",
       "      <td>NaN</td>\n",
       "      <td>97007.0</td>\n",
       "      <td>97583.0</td>\n",
       "      <td>98347.0</td>\n",
       "    </tr>\n",
       "    <tr>\n",
       "      <td>22449</td>\n",
       "      <td>12973</td>\n",
       "      <td>28439</td>\n",
       "      <td>Newcastle</td>\n",
       "      <td>city</td>\n",
       "      <td>NE</td>\n",
       "      <td>NE</td>\n",
       "      <td>Sioux City, IA-NE-SD</td>\n",
       "      <td>Dixon County</td>\n",
       "      <td>NaN</td>\n",
       "      <td>NaN</td>\n",
       "      <td>...</td>\n",
       "      <td>86334.0</td>\n",
       "      <td>87303.0</td>\n",
       "      <td>87475.0</td>\n",
       "      <td>87673.0</td>\n",
       "      <td>89524.0</td>\n",
       "      <td>92202.0</td>\n",
       "      <td>94998.0</td>\n",
       "      <td>96428.0</td>\n",
       "      <td>97099.0</td>\n",
       "      <td>98134.0</td>\n",
       "    </tr>\n",
       "    <tr>\n",
       "      <td>22450</td>\n",
       "      <td>48550</td>\n",
       "      <td>28439</td>\n",
       "      <td>Winton</td>\n",
       "      <td>city</td>\n",
       "      <td>MN</td>\n",
       "      <td>MN</td>\n",
       "      <td>Duluth, MN-WI</td>\n",
       "      <td>Saint Louis County</td>\n",
       "      <td>NaN</td>\n",
       "      <td>NaN</td>\n",
       "      <td>...</td>\n",
       "      <td>102723.0</td>\n",
       "      <td>104572.0</td>\n",
       "      <td>107325.0</td>\n",
       "      <td>111074.0</td>\n",
       "      <td>114772.0</td>\n",
       "      <td>117708.0</td>\n",
       "      <td>119547.0</td>\n",
       "      <td>121594.0</td>\n",
       "      <td>125028.0</td>\n",
       "      <td>125149.0</td>\n",
       "    </tr>\n",
       "  </tbody>\n",
       "</table>\n",
       "<p>22451 rows × 282 columns</p>\n",
       "</div>"
      ],
      "text/plain": [
       "       RegionID  SizeRank        RegionName RegionType StateName State  \\\n",
       "0          6181         0          New York       city        NY    NY   \n",
       "1         12447         1       Los Angeles       city        CA    CA   \n",
       "2         39051         2           Houston       city        TX    TX   \n",
       "3         17426         3           Chicago       city        IL    IL   \n",
       "4          6915         4       San Antonio       city        TX    TX   \n",
       "...         ...       ...               ...        ...       ...   ...   \n",
       "22446     54589     28439  Strawberry Point       city        IA    IA   \n",
       "22447     21230     28439      West Leipsic       city        OH    OH   \n",
       "22448     24470     28439             Eakly       city        OK    OK   \n",
       "22449     12973     28439         Newcastle       city        NE    NE   \n",
       "22450     48550     28439            Winton       city        MN    MN   \n",
       "\n",
       "                                       Metro          CountyName  2000-01-31  \\\n",
       "0      New York-Newark-Jersey City, NY-NJ-PA       Queens County    253767.0   \n",
       "1         Los Angeles-Long Beach-Anaheim, CA  Los Angeles County    246626.0   \n",
       "2       Houston-The Woodlands-Sugar Land, TX       Harris County    111380.0   \n",
       "3         Chicago-Naperville-Elgin, IL-IN-WI         Cook County    165170.0   \n",
       "4              San Antonio-New Braunfels, TX        Bexar County    115484.0   \n",
       "...                                      ...                 ...         ...   \n",
       "22446                                    NaN      Clayton County         NaN   \n",
       "22447                                    NaN       Putnam County         NaN   \n",
       "22448                                    NaN        Caddo County         NaN   \n",
       "22449                   Sioux City, IA-NE-SD        Dixon County         NaN   \n",
       "22450                          Duluth, MN-WI  Saint Louis County         NaN   \n",
       "\n",
       "       2000-02-29  ...  2022-01-31  2022-02-28  2022-03-31  2022-04-30  \\\n",
       "0        255586.0  ...    733761.0    738811.0    745235.0    750940.0   \n",
       "1        246869.0  ...   1000394.0   1010508.0   1028347.0   1049762.0   \n",
       "2        111377.0  ...    254526.0    257994.0    262481.0    267302.0   \n",
       "3        165509.0  ...    299525.0    301079.0    303248.0    304806.0   \n",
       "4        115666.0  ...    276017.0    280498.0    286224.0    291901.0   \n",
       "...           ...  ...         ...         ...         ...         ...   \n",
       "22446         NaN  ...    119568.0    121120.0    121367.0    121539.0   \n",
       "22447         NaN  ...     84609.0     85550.0     85500.0     84738.0   \n",
       "22448         NaN  ...         NaN         NaN         NaN         NaN   \n",
       "22449         NaN  ...     86334.0     87303.0     87475.0     87673.0   \n",
       "22450         NaN  ...    102723.0    104572.0    107325.0    111074.0   \n",
       "\n",
       "       2022-05-31  2022-06-30  2022-07-31  2022-08-31  2022-09-30  2022-10-31  \n",
       "0        757659.0    762851.0    766936.0    769342.0    771456.0    774132.0  \n",
       "1       1069084.0   1071542.0   1072346.0   1056961.0   1044717.0   1028985.0  \n",
       "2        271901.0    275363.0    277586.0    278969.0    279206.0    279833.0  \n",
       "3        307991.0    310419.0    311762.0    311400.0    311186.0    311233.0  \n",
       "4        296995.0    299972.0    301044.0    301370.0    301196.0    300681.0  \n",
       "...           ...         ...         ...         ...         ...         ...  \n",
       "22446    121817.0    122423.0    122971.0    123438.0    123583.0    123844.0  \n",
       "22447     84748.0     85225.0     86174.0     87019.0     87645.0     87992.0  \n",
       "22448         NaN         NaN         NaN     97007.0     97583.0     98347.0  \n",
       "22449     89524.0     92202.0     94998.0     96428.0     97099.0     98134.0  \n",
       "22450    114772.0    117708.0    119547.0    121594.0    125028.0    125149.0  \n",
       "\n",
       "[22451 rows x 282 columns]"
      ]
     },
     "execution_count": 4,
     "metadata": {},
     "output_type": "execute_result"
    }
   ],
   "source": [
    "os.chdir('file path')\n",
    "hv = pd.read_csv('CityHomeValuesUptoOctober2022.csv')\n",
    "hv"
   ]
  },
  {
   "cell_type": "markdown",
   "metadata": {},
   "source": [
    "#### Zooming in on Seattle home prices."
   ]
  },
  {
   "cell_type": "code",
   "execution_count": 5,
   "metadata": {},
   "outputs": [
    {
     "name": "stdout",
     "output_type": "stream",
     "text": [
      "   RegionName  2000-01-31  2000-02-29  2000-03-31  2000-04-30  2000-05-31  \\\n",
      "21    Seattle    270063.0    271870.0    273518.0    276733.0    280062.0   \n",
      "\n",
      "    2000-06-30  2000-07-31  2000-08-31  2000-09-30  ...  2022-01-31  \\\n",
      "21    282754.0    285756.0    287666.0    289352.0  ...    973931.0   \n",
      "\n",
      "    2022-02-28  2022-03-31  2022-04-30  2022-05-31  2022-06-30  2022-07-31  \\\n",
      "21    988550.0   1011041.0   1036088.0   1046956.0   1041471.0   1028294.0   \n",
      "\n",
      "    2022-08-31  2022-09-30  2022-10-31  \n",
      "21   1017744.0   1013332.0   1008841.0  \n",
      "\n",
      "[1 rows x 275 columns]\n"
     ]
    }
   ],
   "source": [
    "seattle_hv = hv.loc[hv['RegionName'] == 'Seattle'].drop(columns = ['RegionID', 'RegionType', 'SizeRank', \n",
    "                                                                   'StateName','State', 'Metro', 'CountyName'])\n",
    "print(seattle_hv)"
   ]
  },
  {
   "cell_type": "code",
   "execution_count": 6,
   "metadata": {},
   "outputs": [
    {
     "name": "stdout",
     "output_type": "stream",
     "text": [
      "    2000-01-31  2000-02-29  2000-03-31  2000-04-30  2000-05-31  2000-06-30  \\\n",
      "21    270063.0    271870.0    273518.0    276733.0    280062.0    282754.0   \n",
      "\n",
      "    2000-07-31  2000-08-31  2000-09-30  2000-10-31  ...  2022-01-31  \\\n",
      "21    285756.0    287666.0    289352.0    290418.0  ...    973931.0   \n",
      "\n",
      "    2022-02-28  2022-03-31  2022-04-30  2022-05-31  2022-06-30  2022-07-31  \\\n",
      "21    988550.0   1011041.0   1036088.0   1046956.0   1041471.0   1028294.0   \n",
      "\n",
      "    2022-08-31  2022-09-30  2022-10-31  \n",
      "21   1017744.0   1013332.0   1008841.0  \n",
      "\n",
      "[1 rows x 274 columns]\n"
     ]
    }
   ],
   "source": [
    "seattle_hv = seattle_hv.drop(columns = ['RegionName'])\n",
    "print(seattle_hv)"
   ]
  },
  {
   "cell_type": "code",
   "execution_count": 7,
   "metadata": {},
   "outputs": [
    {
     "name": "stdout",
     "output_type": "stream",
     "text": [
      "21  2000-01-31    270063.0\n",
      "    2000-02-29    271870.0\n",
      "    2000-03-31    273518.0\n",
      "    2000-04-30    276733.0\n",
      "    2000-05-31    280062.0\n",
      "    2000-06-30    282754.0\n",
      "    2000-07-31    285756.0\n",
      "    2000-08-31    287666.0\n",
      "    2000-09-30    289352.0\n",
      "    2000-10-31    290418.0\n",
      "dtype: float64\n"
     ]
    }
   ],
   "source": [
    "seattle_restr = seattle_hv.stack()\n",
    "print(seattle_restr.head(10))"
   ]
  },
  {
   "cell_type": "code",
   "execution_count": 8,
   "metadata": {},
   "outputs": [
    {
     "name": "stdout",
     "output_type": "stream",
     "text": [
      "   level_0     level_1         0\n",
      "0       21  2000-01-31  270063.0\n",
      "1       21  2000-02-29  271870.0\n",
      "2       21  2000-03-31  273518.0\n",
      "3       21  2000-04-30  276733.0\n",
      "4       21  2000-05-31  280062.0\n",
      "5       21  2000-06-30  282754.0\n",
      "6       21  2000-07-31  285756.0\n",
      "7       21  2000-08-31  287666.0\n",
      "8       21  2000-09-30  289352.0\n",
      "9       21  2000-10-31  290418.0\n"
     ]
    }
   ],
   "source": [
    "seattle_restr = seattle_restr.reset_index()\n",
    "print(seattle_restr.head(10))"
   ]
  },
  {
   "cell_type": "code",
   "execution_count": 9,
   "metadata": {},
   "outputs": [
    {
     "name": "stdout",
     "output_type": "stream",
     "text": [
      "   Index  YYYY-MM-DD  HomeValue\n",
      "0     21  2000-01-31   270063.0\n",
      "1     21  2000-02-29   271870.0\n",
      "2     21  2000-03-31   273518.0\n",
      "3     21  2000-04-30   276733.0\n",
      "4     21  2000-05-31   280062.0\n",
      "5     21  2000-06-30   282754.0\n",
      "6     21  2000-07-31   285756.0\n",
      "7     21  2000-08-31   287666.0\n",
      "8     21  2000-09-30   289352.0\n",
      "9     21  2000-10-31   290418.0\n"
     ]
    }
   ],
   "source": [
    "seattle_restr.columns = ['Index', 'YYYY-MM-DD', 'HomeValue']\n",
    "print(seattle_restr.head(10))"
   ]
  },
  {
   "cell_type": "code",
   "execution_count": 10,
   "metadata": {},
   "outputs": [
    {
     "name": "stdout",
     "output_type": "stream",
     "text": [
      "   YYYY-MM-DD  HomeValue\n",
      "0  2000-01-31   270063.0\n",
      "1  2000-02-29   271870.0\n",
      "2  2000-03-31   273518.0\n",
      "3  2000-04-30   276733.0\n",
      "4  2000-05-31   280062.0\n",
      "5  2000-06-30   282754.0\n",
      "6  2000-07-31   285756.0\n",
      "7  2000-08-31   287666.0\n",
      "8  2000-09-30   289352.0\n",
      "9  2000-10-31   290418.0\n"
     ]
    }
   ],
   "source": [
    "seattle_restr = seattle_restr.drop(columns='Index')\n",
    "print(seattle_restr.head(10))"
   ]
  },
  {
   "cell_type": "markdown",
   "metadata": {},
   "source": [
    "#### Plotting data in a line chart"
   ]
  },
  {
   "cell_type": "code",
   "execution_count": 11,
   "metadata": {},
   "outputs": [],
   "source": [
    "seattle_restr[\"YYYY-MM-DD\"] = pd.to_datetime(seattle_restr[\"YYYY-MM-DD\"])"
   ]
  },
  {
   "cell_type": "code",
   "execution_count": 15,
   "metadata": {},
   "outputs": [
    {
     "data": {
      "image/png": "[encoded data removed]",
      "text/plain": [
       "<Figure size 1296x720 with 1 Axes>"
      ]
     },
     "metadata": {},
     "output_type": "display_data"
    }
   ],
   "source": [
    "line,ax = plt.subplots(figsize=(18,10))\n",
    "ax = sns.lineplot(x = \"YYYY-MM-DD\", y = \"HomeValue\", data=seattle_restr)\n",
    "ax.set_title(\"Home Prices in Seattle 2000 - 2022\", fontsize=15)\n",
    "ax.set_xlabel (\"Year\")\n",
    "ax.set_ylabel (\"Dollars\")\n",
    "\n",
    "start, end = ax.get_xlim()\n",
    "ax.xaxis.set_ticks(np.arange(start, end, 12))\n",
    "\n",
    "year_locator = mdates.MonthLocator(interval=12)\n",
    "year_formatter = mdates.DateFormatter(\"%Y\")\n",
    "ax.xaxis.set_major_locator(year_locator)\n",
    "ax.xaxis.set_major_formatter(year_formatter)\n",
    "\n",
    "line.autofmt_xdate()\n",
    "\n",
    "plt.show()"
   ]
  },
  {
   "cell_type": "markdown",
   "metadata": {},
   "source": [
    "#### Zooming in on Boston home prices."
   ]
  },
  {
   "cell_type": "code",
   "execution_count": 16,
   "metadata": {},
   "outputs": [
    {
     "name": "stdout",
     "output_type": "stream",
     "text": [
      "    RegionID RegionName  2000-01-31  2000-02-29  2000-03-31  2000-04-30  \\\n",
      "26     44269     Boston    225343.0    227005.0    228915.0    232289.0   \n",
      "\n",
      "    2000-05-31  2000-06-30  2000-07-31  2000-08-31  ...  2022-01-31  \\\n",
      "26    233490.0    234197.0    235767.0    241356.0  ...    733773.0   \n",
      "\n",
      "    2022-02-28  2022-03-31  2022-04-30  2022-05-31  2022-06-30  2022-07-31  \\\n",
      "26    743091.0    749438.0    756949.0    761997.0    764472.0    764290.0   \n",
      "\n",
      "    2022-08-31  2022-09-30  2022-10-31  \n",
      "26    763425.0    763430.0    761174.0  \n",
      "\n",
      "[1 rows x 276 columns]\n"
     ]
    }
   ],
   "source": [
    "boston_hv = hv.loc[(hv['RegionName'] == 'Boston') & (hv['RegionID'] == 44269)].drop(columns = ['RegionType', 'SizeRank', \n",
    "                                                                   'StateName','State', 'Metro', 'CountyName'])\n",
    "print(boston_hv)"
   ]
  },
  {
   "cell_type": "code",
   "execution_count": 17,
   "metadata": {},
   "outputs": [
    {
     "name": "stdout",
     "output_type": "stream",
     "text": [
      "    2000-01-31  2000-02-29  2000-03-31  2000-04-30  2000-05-31  2000-06-30  \\\n",
      "26    225343.0    227005.0    228915.0    232289.0    233490.0    234197.0   \n",
      "\n",
      "    2000-07-31  2000-08-31  2000-09-30  2000-10-31  ...  2022-01-31  \\\n",
      "26    235767.0    241356.0    246436.0    251101.0  ...    733773.0   \n",
      "\n",
      "    2022-02-28  2022-03-31  2022-04-30  2022-05-31  2022-06-30  2022-07-31  \\\n",
      "26    743091.0    749438.0    756949.0    761997.0    764472.0    764290.0   \n",
      "\n",
      "    2022-08-31  2022-09-30  2022-10-31  \n",
      "26    763425.0    763430.0    761174.0  \n",
      "\n",
      "[1 rows x 274 columns]\n"
     ]
    }
   ],
   "source": [
    "boston_hv = boston_hv.drop(columns = ['RegionID','RegionName'])\n",
    "print(boston_hv)"
   ]
  },
  {
   "cell_type": "code",
   "execution_count": 18,
   "metadata": {},
   "outputs": [
    {
     "name": "stdout",
     "output_type": "stream",
     "text": [
      "26  2000-01-31    225343.0\n",
      "    2000-02-29    227005.0\n",
      "    2000-03-31    228915.0\n",
      "    2000-04-30    232289.0\n",
      "    2000-05-31    233490.0\n",
      "    2000-06-30    234197.0\n",
      "    2000-07-31    235767.0\n",
      "    2000-08-31    241356.0\n",
      "    2000-09-30    246436.0\n",
      "    2000-10-31    251101.0\n",
      "dtype: float64\n"
     ]
    }
   ],
   "source": [
    "boston_restr = boston_hv.stack()\n",
    "print(boston_restr.head(10))"
   ]
  },
  {
   "cell_type": "code",
   "execution_count": 19,
   "metadata": {},
   "outputs": [
    {
     "name": "stdout",
     "output_type": "stream",
     "text": [
      "   level_0     level_1         0\n",
      "0       26  2000-01-31  225343.0\n",
      "1       26  2000-02-29  227005.0\n",
      "2       26  2000-03-31  228915.0\n",
      "3       26  2000-04-30  232289.0\n",
      "4       26  2000-05-31  233490.0\n",
      "5       26  2000-06-30  234197.0\n",
      "6       26  2000-07-31  235767.0\n",
      "7       26  2000-08-31  241356.0\n",
      "8       26  2000-09-30  246436.0\n",
      "9       26  2000-10-31  251101.0\n"
     ]
    }
   ],
   "source": [
    "boston_restr = boston_restr.reset_index()\n",
    "print(boston_restr.head(10))"
   ]
  },
  {
   "cell_type": "code",
   "execution_count": 20,
   "metadata": {},
   "outputs": [
    {
     "name": "stdout",
     "output_type": "stream",
     "text": [
      "   Index  YYYY-MM-DD  HomeValue\n",
      "0     26  2000-01-31   225343.0\n",
      "1     26  2000-02-29   227005.0\n",
      "2     26  2000-03-31   228915.0\n",
      "3     26  2000-04-30   232289.0\n",
      "4     26  2000-05-31   233490.0\n",
      "5     26  2000-06-30   234197.0\n",
      "6     26  2000-07-31   235767.0\n",
      "7     26  2000-08-31   241356.0\n",
      "8     26  2000-09-30   246436.0\n",
      "9     26  2000-10-31   251101.0\n"
     ]
    }
   ],
   "source": [
    "boston_restr.columns = ['Index', 'YYYY-MM-DD', 'HomeValue']\n",
    "print(boston_restr.head(10))"
   ]
  },
  {
   "cell_type": "code",
   "execution_count": 21,
   "metadata": {},
   "outputs": [
    {
     "name": "stdout",
     "output_type": "stream",
     "text": [
      "   YYYY-MM-DD  HomeValue\n",
      "0  2000-01-31   225343.0\n",
      "1  2000-02-29   227005.0\n",
      "2  2000-03-31   228915.0\n",
      "3  2000-04-30   232289.0\n",
      "4  2000-05-31   233490.0\n",
      "5  2000-06-30   234197.0\n",
      "6  2000-07-31   235767.0\n",
      "7  2000-08-31   241356.0\n",
      "8  2000-09-30   246436.0\n",
      "9  2000-10-31   251101.0\n"
     ]
    }
   ],
   "source": [
    "boston_restr = boston_restr.drop(columns='Index')\n",
    "print(boston_restr.head(10))"
   ]
  },
  {
   "cell_type": "markdown",
   "metadata": {},
   "source": [
    "#### Plotting data in a line chart"
   ]
  },
  {
   "cell_type": "code",
   "execution_count": 22,
   "metadata": {},
   "outputs": [],
   "source": [
    "boston_restr[\"YYYY-MM-DD\"] = pd.to_datetime(boston_restr[\"YYYY-MM-DD\"])"
   ]
  },
  {
   "cell_type": "code",
   "execution_count": 23,
   "metadata": {},
   "outputs": [
    {
     "data": {
      "image/png": "[encoded data removed]",
      "text/plain": [
       "<Figure size 1296x720 with 1 Axes>"
      ]
     },
     "metadata": {},
     "output_type": "display_data"
    }
   ],
   "source": [
    "line,ax = plt.subplots(figsize=(18,10))\n",
    "ax = sns.lineplot(x = \"YYYY-MM-DD\", y = \"HomeValue\", data=boston_restr)\n",
    "ax.set_title(\"Home Prices in Boston 2000 - 2022\", fontsize=15)\n",
    "ax.set_xlabel (\"Year\")\n",
    "ax.set_ylabel (\"Dollars\")\n",
    "\n",
    "year_locator = mdates.MonthLocator(interval=12)\n",
    "year_formatter = mdates.DateFormatter(\"%Y\")\n",
    "ax.xaxis.set_major_locator(year_locator)\n",
    "ax.xaxis.set_major_formatter(year_formatter)\n",
    "\n",
    "line.autofmt_xdate()\n",
    "\n",
    "plt.show()"
   ]
  },
  {
   "cell_type": "markdown",
   "metadata": {},
   "source": [
    "#### Combining the line plots"
   ]
  },
  {
   "cell_type": "code",
   "execution_count": 24,
   "metadata": {},
   "outputs": [],
   "source": [
    "seattle_restr.insert(2, \"City\", \"Seattle\")"
   ]
  },
  {
   "cell_type": "code",
   "execution_count": 25,
   "metadata": {},
   "outputs": [
    {
     "data": {
      "text/html": [
       "<div>\n",
       "<style scoped>\n",
       "    .dataframe tbody tr th:only-of-type {\n",
       "        vertical-align: middle;\n",
       "    }\n",
       "\n",
       "    .dataframe tbody tr th {\n",
       "        vertical-align: top;\n",
       "    }\n",
       "\n",
       "    .dataframe thead th {\n",
       "        text-align: right;\n",
       "    }\n",
       "</style>\n",
       "<table border=\"1\" class=\"dataframe\">\n",
       "  <thead>\n",
       "    <tr style=\"text-align: right;\">\n",
       "      <th></th>\n",
       "      <th>YYYY-MM-DD</th>\n",
       "      <th>HomeValue</th>\n",
       "      <th>City</th>\n",
       "    </tr>\n",
       "  </thead>\n",
       "  <tbody>\n",
       "    <tr>\n",
       "      <td>0</td>\n",
       "      <td>2000-01-31</td>\n",
       "      <td>270063.0</td>\n",
       "      <td>Seattle</td>\n",
       "    </tr>\n",
       "    <tr>\n",
       "      <td>1</td>\n",
       "      <td>2000-02-29</td>\n",
       "      <td>271870.0</td>\n",
       "      <td>Seattle</td>\n",
       "    </tr>\n",
       "    <tr>\n",
       "      <td>2</td>\n",
       "      <td>2000-03-31</td>\n",
       "      <td>273518.0</td>\n",
       "      <td>Seattle</td>\n",
       "    </tr>\n",
       "    <tr>\n",
       "      <td>3</td>\n",
       "      <td>2000-04-30</td>\n",
       "      <td>276733.0</td>\n",
       "      <td>Seattle</td>\n",
       "    </tr>\n",
       "    <tr>\n",
       "      <td>4</td>\n",
       "      <td>2000-05-31</td>\n",
       "      <td>280062.0</td>\n",
       "      <td>Seattle</td>\n",
       "    </tr>\n",
       "    <tr>\n",
       "      <td>5</td>\n",
       "      <td>2000-06-30</td>\n",
       "      <td>282754.0</td>\n",
       "      <td>Seattle</td>\n",
       "    </tr>\n",
       "    <tr>\n",
       "      <td>6</td>\n",
       "      <td>2000-07-31</td>\n",
       "      <td>285756.0</td>\n",
       "      <td>Seattle</td>\n",
       "    </tr>\n",
       "    <tr>\n",
       "      <td>7</td>\n",
       "      <td>2000-08-31</td>\n",
       "      <td>287666.0</td>\n",
       "      <td>Seattle</td>\n",
       "    </tr>\n",
       "    <tr>\n",
       "      <td>8</td>\n",
       "      <td>2000-09-30</td>\n",
       "      <td>289352.0</td>\n",
       "      <td>Seattle</td>\n",
       "    </tr>\n",
       "    <tr>\n",
       "      <td>9</td>\n",
       "      <td>2000-10-31</td>\n",
       "      <td>290418.0</td>\n",
       "      <td>Seattle</td>\n",
       "    </tr>\n",
       "  </tbody>\n",
       "</table>\n",
       "</div>"
      ],
      "text/plain": [
       "  YYYY-MM-DD  HomeValue     City\n",
       "0 2000-01-31   270063.0  Seattle\n",
       "1 2000-02-29   271870.0  Seattle\n",
       "2 2000-03-31   273518.0  Seattle\n",
       "3 2000-04-30   276733.0  Seattle\n",
       "4 2000-05-31   280062.0  Seattle\n",
       "5 2000-06-30   282754.0  Seattle\n",
       "6 2000-07-31   285756.0  Seattle\n",
       "7 2000-08-31   287666.0  Seattle\n",
       "8 2000-09-30   289352.0  Seattle\n",
       "9 2000-10-31   290418.0  Seattle"
      ]
     },
     "execution_count": 25,
     "metadata": {},
     "output_type": "execute_result"
    }
   ],
   "source": [
    "seattle_restr.head(10)"
   ]
  },
  {
   "cell_type": "code",
   "execution_count": 26,
   "metadata": {},
   "outputs": [],
   "source": [
    "boston_restr.insert(2, \"City\", \"Boston\")"
   ]
  },
  {
   "cell_type": "code",
   "execution_count": 27,
   "metadata": {},
   "outputs": [
    {
     "data": {
      "text/html": [
       "<div>\n",
       "<style scoped>\n",
       "    .dataframe tbody tr th:only-of-type {\n",
       "        vertical-align: middle;\n",
       "    }\n",
       "\n",
       "    .dataframe tbody tr th {\n",
       "        vertical-align: top;\n",
       "    }\n",
       "\n",
       "    .dataframe thead th {\n",
       "        text-align: right;\n",
       "    }\n",
       "</style>\n",
       "<table border=\"1\" class=\"dataframe\">\n",
       "  <thead>\n",
       "    <tr style=\"text-align: right;\">\n",
       "      <th></th>\n",
       "      <th>YYYY-MM-DD</th>\n",
       "      <th>HomeValue</th>\n",
       "      <th>City</th>\n",
       "    </tr>\n",
       "  </thead>\n",
       "  <tbody>\n",
       "    <tr>\n",
       "      <td>0</td>\n",
       "      <td>2000-01-31</td>\n",
       "      <td>225343.0</td>\n",
       "      <td>Boston</td>\n",
       "    </tr>\n",
       "    <tr>\n",
       "      <td>1</td>\n",
       "      <td>2000-02-29</td>\n",
       "      <td>227005.0</td>\n",
       "      <td>Boston</td>\n",
       "    </tr>\n",
       "    <tr>\n",
       "      <td>2</td>\n",
       "      <td>2000-03-31</td>\n",
       "      <td>228915.0</td>\n",
       "      <td>Boston</td>\n",
       "    </tr>\n",
       "    <tr>\n",
       "      <td>3</td>\n",
       "      <td>2000-04-30</td>\n",
       "      <td>232289.0</td>\n",
       "      <td>Boston</td>\n",
       "    </tr>\n",
       "    <tr>\n",
       "      <td>4</td>\n",
       "      <td>2000-05-31</td>\n",
       "      <td>233490.0</td>\n",
       "      <td>Boston</td>\n",
       "    </tr>\n",
       "    <tr>\n",
       "      <td>5</td>\n",
       "      <td>2000-06-30</td>\n",
       "      <td>234197.0</td>\n",
       "      <td>Boston</td>\n",
       "    </tr>\n",
       "    <tr>\n",
       "      <td>6</td>\n",
       "      <td>2000-07-31</td>\n",
       "      <td>235767.0</td>\n",
       "      <td>Boston</td>\n",
       "    </tr>\n",
       "    <tr>\n",
       "      <td>7</td>\n",
       "      <td>2000-08-31</td>\n",
       "      <td>241356.0</td>\n",
       "      <td>Boston</td>\n",
       "    </tr>\n",
       "    <tr>\n",
       "      <td>8</td>\n",
       "      <td>2000-09-30</td>\n",
       "      <td>246436.0</td>\n",
       "      <td>Boston</td>\n",
       "    </tr>\n",
       "    <tr>\n",
       "      <td>9</td>\n",
       "      <td>2000-10-31</td>\n",
       "      <td>251101.0</td>\n",
       "      <td>Boston</td>\n",
       "    </tr>\n",
       "  </tbody>\n",
       "</table>\n",
       "</div>"
      ],
      "text/plain": [
       "  YYYY-MM-DD  HomeValue    City\n",
       "0 2000-01-31   225343.0  Boston\n",
       "1 2000-02-29   227005.0  Boston\n",
       "2 2000-03-31   228915.0  Boston\n",
       "3 2000-04-30   232289.0  Boston\n",
       "4 2000-05-31   233490.0  Boston\n",
       "5 2000-06-30   234197.0  Boston\n",
       "6 2000-07-31   235767.0  Boston\n",
       "7 2000-08-31   241356.0  Boston\n",
       "8 2000-09-30   246436.0  Boston\n",
       "9 2000-10-31   251101.0  Boston"
      ]
     },
     "execution_count": 27,
     "metadata": {},
     "output_type": "execute_result"
    }
   ],
   "source": [
    "boston_restr.head(10)"
   ]
  },
  {
   "cell_type": "code",
   "execution_count": 28,
   "metadata": {},
   "outputs": [],
   "source": [
    "dataframes = [seattle_restr, boston_restr]\n",
    "merged_df = pd.concat(dataframes)"
   ]
  },
  {
   "cell_type": "code",
   "execution_count": 29,
   "metadata": {},
   "outputs": [
    {
     "data": {
      "text/html": [
       "<div>\n",
       "<style scoped>\n",
       "    .dataframe tbody tr th:only-of-type {\n",
       "        vertical-align: middle;\n",
       "    }\n",
       "\n",
       "    .dataframe tbody tr th {\n",
       "        vertical-align: top;\n",
       "    }\n",
       "\n",
       "    .dataframe thead th {\n",
       "        text-align: right;\n",
       "    }\n",
       "</style>\n",
       "<table border=\"1\" class=\"dataframe\">\n",
       "  <thead>\n",
       "    <tr style=\"text-align: right;\">\n",
       "      <th></th>\n",
       "      <th>YYYY-MM-DD</th>\n",
       "      <th>HomeValue</th>\n",
       "      <th>City</th>\n",
       "    </tr>\n",
       "  </thead>\n",
       "  <tbody>\n",
       "    <tr>\n",
       "      <td>0</td>\n",
       "      <td>2000-01-31</td>\n",
       "      <td>270063.0</td>\n",
       "      <td>Seattle</td>\n",
       "    </tr>\n",
       "    <tr>\n",
       "      <td>1</td>\n",
       "      <td>2000-02-29</td>\n",
       "      <td>271870.0</td>\n",
       "      <td>Seattle</td>\n",
       "    </tr>\n",
       "    <tr>\n",
       "      <td>2</td>\n",
       "      <td>2000-03-31</td>\n",
       "      <td>273518.0</td>\n",
       "      <td>Seattle</td>\n",
       "    </tr>\n",
       "    <tr>\n",
       "      <td>3</td>\n",
       "      <td>2000-04-30</td>\n",
       "      <td>276733.0</td>\n",
       "      <td>Seattle</td>\n",
       "    </tr>\n",
       "    <tr>\n",
       "      <td>4</td>\n",
       "      <td>2000-05-31</td>\n",
       "      <td>280062.0</td>\n",
       "      <td>Seattle</td>\n",
       "    </tr>\n",
       "    <tr>\n",
       "      <td>...</td>\n",
       "      <td>...</td>\n",
       "      <td>...</td>\n",
       "      <td>...</td>\n",
       "    </tr>\n",
       "    <tr>\n",
       "      <td>269</td>\n",
       "      <td>2022-06-30</td>\n",
       "      <td>764472.0</td>\n",
       "      <td>Boston</td>\n",
       "    </tr>\n",
       "    <tr>\n",
       "      <td>270</td>\n",
       "      <td>2022-07-31</td>\n",
       "      <td>764290.0</td>\n",
       "      <td>Boston</td>\n",
       "    </tr>\n",
       "    <tr>\n",
       "      <td>271</td>\n",
       "      <td>2022-08-31</td>\n",
       "      <td>763425.0</td>\n",
       "      <td>Boston</td>\n",
       "    </tr>\n",
       "    <tr>\n",
       "      <td>272</td>\n",
       "      <td>2022-09-30</td>\n",
       "      <td>763430.0</td>\n",
       "      <td>Boston</td>\n",
       "    </tr>\n",
       "    <tr>\n",
       "      <td>273</td>\n",
       "      <td>2022-10-31</td>\n",
       "      <td>761174.0</td>\n",
       "      <td>Boston</td>\n",
       "    </tr>\n",
       "  </tbody>\n",
       "</table>\n",
       "<p>548 rows × 3 columns</p>\n",
       "</div>"
      ],
      "text/plain": [
       "    YYYY-MM-DD  HomeValue     City\n",
       "0   2000-01-31   270063.0  Seattle\n",
       "1   2000-02-29   271870.0  Seattle\n",
       "2   2000-03-31   273518.0  Seattle\n",
       "3   2000-04-30   276733.0  Seattle\n",
       "4   2000-05-31   280062.0  Seattle\n",
       "..         ...        ...      ...\n",
       "269 2022-06-30   764472.0   Boston\n",
       "270 2022-07-31   764290.0   Boston\n",
       "271 2022-08-31   763425.0   Boston\n",
       "272 2022-09-30   763430.0   Boston\n",
       "273 2022-10-31   761174.0   Boston\n",
       "\n",
       "[548 rows x 3 columns]"
      ]
     },
     "execution_count": 29,
     "metadata": {},
     "output_type": "execute_result"
    }
   ],
   "source": [
    "merged_df"
   ]
  },
  {
   "cell_type": "code",
   "execution_count": 30,
   "metadata": {},
   "outputs": [],
   "source": [
    "merged_df[\"YYYY-MM-DD\"] = pd.to_datetime(merged_df[\"YYYY-MM-DD\"])"
   ]
  },
  {
   "cell_type": "code",
   "execution_count": 31,
   "metadata": {},
   "outputs": [
    {
     "data": {
      "image/png": "[encoded data removed]",
      "text/plain": [
       "<Figure size 1296x720 with 1 Axes>"
      ]
     },
     "metadata": {},
     "output_type": "display_data"
    }
   ],
   "source": [
    "line,ax = plt.subplots(figsize=(18,10))\n",
    "ax = sns.lineplot(x = \"YYYY-MM-DD\", y = \"HomeValue\", data=merged_df, hue=\"City\")\n",
    "ax.set_title(\"Home Prices in Seattle and Boston 2000 - 2022\", fontsize=15)\n",
    "ax.set_xlabel (\"Year\")\n",
    "ax.set_ylabel (\"Dollars\")\n",
    "\n",
    "year_locator = mdates.MonthLocator(interval=12)\n",
    "year_formatter = mdates.DateFormatter(\"%Y\")\n",
    "ax.xaxis.set_major_locator(year_locator)\n",
    "ax.xaxis.set_major_formatter(year_formatter)\n",
    "\n",
    "line.autofmt_xdate()\n",
    "\n",
    "plt.show()"
   ]
  },
  {
   "cell_type": "code",
   "execution_count": null,
   "metadata": {},
   "outputs": [],
   "source": []
  }
 ],
 "metadata": {
  "kernelspec": {
   "display_name": "Python 3",
   "language": "python",
   "name": "python3"
  },
  "language_info": {
   "codemirror_mode": {
    "name": "ipython",
    "version": 3
   },
   "file_extension": ".py",
   "mimetype": "text/x-python",
   "name": "python",
   "nbconvert_exporter": "python",
   "pygments_lexer": "ipython3",
   "version": "3.7.4"
  }
 },
 "nbformat": 4,
 "nbformat_minor": 2
}
