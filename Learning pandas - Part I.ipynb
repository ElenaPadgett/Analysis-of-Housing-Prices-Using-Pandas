{
 "cells": [
  {
   "cell_type": "markdown",
   "metadata": {},
   "source": [
    "# Learning Pandas - Part I"
   ]
  },
  {
   "cell_type": "markdown",
   "metadata": {},
   "source": [
    "The goal of the following exercise is to learn the basic Pandas functionality and data vizualization techniques. We'll load data from a CSV file, clean it up, answer some exploratory questions and plot a subset of our data. "
   ]
  },
  {
   "cell_type": "code",
   "execution_count": 1,
   "metadata": {},
   "outputs": [],
   "source": [
    "import pandas as pd\n",
    "import numpy as np\n",
    "import matplotlib.pyplot as plt\n",
    "import os, csv"
   ]
  },
  {
   "cell_type": "markdown",
   "metadata": {},
   "source": [
    "## Reading Data"
   ]
  },
  {
   "cell_type": "markdown",
   "metadata": {},
   "source": [
    "To begin, I downloaded a dataset from Zillow (https://www.zillow.com/research/data/) containing the average home prices in all US cities since 1996. On Zillow website it is called \"ZHVI Single Homes Time Series ($) by City 1996 – 2018 (monthly)\", csv file. "
   ]
  },
  {
   "cell_type": "code",
   "execution_count": 2,
   "metadata": {},
   "outputs": [
    {
     "name": "stdout",
     "output_type": "stream",
     "text": [
      "Opening csv file...\n"
     ]
    }
   ],
   "source": [
    "os.chdir('C:\\\\Users\\\\Elena\\\\My Documents\\\\Python Programs\\\\Stats Project')    #file should be in the current working directory\n",
    "hv = pd.read_csv('CityHomeValues.csv')\n",
    "print ('Opening csv file...')"
   ]
  },
  {
   "cell_type": "markdown",
   "metadata": {},
   "source": [
    "We now have our data. By using hv.head(), we can take a look at the first few rows. We see that the table contains average home values for each city starting 04/1996 and ending in 05/2018. Other columns that might be of interest are State and County Name. The rest of the columns can be removed."
   ]
  },
  {
   "cell_type": "code",
   "execution_count": 3,
   "metadata": {},
   "outputs": [
    {
     "data": {
      "text/html": [
       "<div>\n",
       "<style scoped>\n",
       "    .dataframe tbody tr th:only-of-type {\n",
       "        vertical-align: middle;\n",
       "    }\n",
       "\n",
       "    .dataframe tbody tr th {\n",
       "        vertical-align: top;\n",
       "    }\n",
       "\n",
       "    .dataframe thead th {\n",
       "        text-align: right;\n",
       "    }\n",
       "</style>\n",
       "<table border=\"1\" class=\"dataframe\">\n",
       "  <thead>\n",
       "    <tr style=\"text-align: right;\">\n",
       "      <th></th>\n",
       "      <th>RegionID</th>\n",
       "      <th>RegionName</th>\n",
       "      <th>State</th>\n",
       "      <th>Metro</th>\n",
       "      <th>CountyName</th>\n",
       "      <th>SizeRank</th>\n",
       "      <th>1996-04</th>\n",
       "      <th>1996-05</th>\n",
       "      <th>1996-06</th>\n",
       "      <th>1996-07</th>\n",
       "      <th>...</th>\n",
       "      <th>2017-08</th>\n",
       "      <th>2017-09</th>\n",
       "      <th>2017-10</th>\n",
       "      <th>2017-11</th>\n",
       "      <th>2017-12</th>\n",
       "      <th>2018-01</th>\n",
       "      <th>2018-02</th>\n",
       "      <th>2018-03</th>\n",
       "      <th>2018-04</th>\n",
       "      <th>2018-05</th>\n",
       "    </tr>\n",
       "  </thead>\n",
       "  <tbody>\n",
       "    <tr>\n",
       "      <th>0</th>\n",
       "      <td>6181</td>\n",
       "      <td>New York</td>\n",
       "      <td>NY</td>\n",
       "      <td>New York</td>\n",
       "      <td>Queens</td>\n",
       "      <td>1</td>\n",
       "      <td>171900.0</td>\n",
       "      <td>172100.0</td>\n",
       "      <td>172400.0</td>\n",
       "      <td>172500.0</td>\n",
       "      <td>...</td>\n",
       "      <td>550700</td>\n",
       "      <td>555300</td>\n",
       "      <td>558600</td>\n",
       "      <td>561500</td>\n",
       "      <td>564700</td>\n",
       "      <td>570000</td>\n",
       "      <td>576700</td>\n",
       "      <td>583300</td>\n",
       "      <td>589400</td>\n",
       "      <td>593600</td>\n",
       "    </tr>\n",
       "    <tr>\n",
       "      <th>1</th>\n",
       "      <td>12447</td>\n",
       "      <td>Los Angeles</td>\n",
       "      <td>CA</td>\n",
       "      <td>Los Angeles-Long Beach-Anaheim</td>\n",
       "      <td>Los Angeles</td>\n",
       "      <td>2</td>\n",
       "      <td>166400.0</td>\n",
       "      <td>165900.0</td>\n",
       "      <td>165500.0</td>\n",
       "      <td>164900.0</td>\n",
       "      <td>...</td>\n",
       "      <td>671300</td>\n",
       "      <td>677400</td>\n",
       "      <td>683200</td>\n",
       "      <td>688500</td>\n",
       "      <td>693800</td>\n",
       "      <td>700600</td>\n",
       "      <td>707800</td>\n",
       "      <td>712300</td>\n",
       "      <td>714100</td>\n",
       "      <td>714700</td>\n",
       "    </tr>\n",
       "    <tr>\n",
       "      <th>2</th>\n",
       "      <td>17426</td>\n",
       "      <td>Chicago</td>\n",
       "      <td>IL</td>\n",
       "      <td>Chicago</td>\n",
       "      <td>Cook</td>\n",
       "      <td>3</td>\n",
       "      <td>112000.0</td>\n",
       "      <td>113100.0</td>\n",
       "      <td>113900.0</td>\n",
       "      <td>114300.0</td>\n",
       "      <td>...</td>\n",
       "      <td>192300</td>\n",
       "      <td>193400</td>\n",
       "      <td>194900</td>\n",
       "      <td>196600</td>\n",
       "      <td>198500</td>\n",
       "      <td>200800</td>\n",
       "      <td>203100</td>\n",
       "      <td>204800</td>\n",
       "      <td>206300</td>\n",
       "      <td>207100</td>\n",
       "    </tr>\n",
       "    <tr>\n",
       "      <th>3</th>\n",
       "      <td>39051</td>\n",
       "      <td>Houston</td>\n",
       "      <td>TX</td>\n",
       "      <td>Houston</td>\n",
       "      <td>Harris</td>\n",
       "      <td>4</td>\n",
       "      <td>89100.0</td>\n",
       "      <td>89000.0</td>\n",
       "      <td>89000.0</td>\n",
       "      <td>89200.0</td>\n",
       "      <td>...</td>\n",
       "      <td>175700</td>\n",
       "      <td>176700</td>\n",
       "      <td>177800</td>\n",
       "      <td>178500</td>\n",
       "      <td>179200</td>\n",
       "      <td>180600</td>\n",
       "      <td>182100</td>\n",
       "      <td>183300</td>\n",
       "      <td>184500</td>\n",
       "      <td>185300</td>\n",
       "    </tr>\n",
       "    <tr>\n",
       "      <th>4</th>\n",
       "      <td>13271</td>\n",
       "      <td>Philadelphia</td>\n",
       "      <td>PA</td>\n",
       "      <td>Philadelphia</td>\n",
       "      <td>Philadelphia</td>\n",
       "      <td>5</td>\n",
       "      <td>46100.0</td>\n",
       "      <td>46000.0</td>\n",
       "      <td>45900.0</td>\n",
       "      <td>45800.0</td>\n",
       "      <td>...</td>\n",
       "      <td>130900</td>\n",
       "      <td>132300</td>\n",
       "      <td>133500</td>\n",
       "      <td>134600</td>\n",
       "      <td>135200</td>\n",
       "      <td>136500</td>\n",
       "      <td>138400</td>\n",
       "      <td>139900</td>\n",
       "      <td>140800</td>\n",
       "      <td>141300</td>\n",
       "    </tr>\n",
       "  </tbody>\n",
       "</table>\n",
       "<p>5 rows × 272 columns</p>\n",
       "</div>"
      ],
      "text/plain": [
       "   RegionID    RegionName State                           Metro    CountyName  \\\n",
       "0      6181      New York    NY                        New York        Queens   \n",
       "1     12447   Los Angeles    CA  Los Angeles-Long Beach-Anaheim   Los Angeles   \n",
       "2     17426       Chicago    IL                         Chicago          Cook   \n",
       "3     39051       Houston    TX                         Houston        Harris   \n",
       "4     13271  Philadelphia    PA                    Philadelphia  Philadelphia   \n",
       "\n",
       "   SizeRank   1996-04   1996-05   1996-06   1996-07   ...     2017-08  \\\n",
       "0         1  171900.0  172100.0  172400.0  172500.0   ...      550700   \n",
       "1         2  166400.0  165900.0  165500.0  164900.0   ...      671300   \n",
       "2         3  112000.0  113100.0  113900.0  114300.0   ...      192300   \n",
       "3         4   89100.0   89000.0   89000.0   89200.0   ...      175700   \n",
       "4         5   46100.0   46000.0   45900.0   45800.0   ...      130900   \n",
       "\n",
       "   2017-09  2017-10  2017-11  2017-12  2018-01  2018-02  2018-03  2018-04  \\\n",
       "0   555300   558600   561500   564700   570000   576700   583300   589400   \n",
       "1   677400   683200   688500   693800   700600   707800   712300   714100   \n",
       "2   193400   194900   196600   198500   200800   203100   204800   206300   \n",
       "3   176700   177800   178500   179200   180600   182100   183300   184500   \n",
       "4   132300   133500   134600   135200   136500   138400   139900   140800   \n",
       "\n",
       "   2018-05  \n",
       "0   593600  \n",
       "1   714700  \n",
       "2   207100  \n",
       "3   185300  \n",
       "4   141300  \n",
       "\n",
       "[5 rows x 272 columns]"
      ]
     },
     "execution_count": 3,
     "metadata": {},
     "output_type": "execute_result"
    }
   ],
   "source": [
    "hv.head()"
   ]
  },
  {
   "cell_type": "markdown",
   "metadata": {},
   "source": [
    "Now let's size up and explore our data. "
   ]
  },
  {
   "cell_type": "markdown",
   "metadata": {},
   "source": [
    "hv.info() method will give us the DataFrame index dtype, column dtypes and their quantity, non-null values and memory usage.\n",
    "At the start we have 272 columns and 12854 rows of data. Another way to see the number of rows and columns is to use hv.shape"
   ]
  },
  {
   "cell_type": "code",
   "execution_count": 4,
   "metadata": {},
   "outputs": [
    {
     "name": "stdout",
     "output_type": "stream",
     "text": [
      "<class 'pandas.core.frame.DataFrame'>\n",
      "RangeIndex: 12854 entries, 0 to 12853\n",
      "Columns: 272 entries, RegionID to 2018-05\n",
      "dtypes: float64(219), int64(49), object(4)\n",
      "memory usage: 26.7+ MB\n"
     ]
    }
   ],
   "source": [
    "hv.info()"
   ]
  },
  {
   "cell_type": "code",
   "execution_count": 5,
   "metadata": {},
   "outputs": [
    {
     "data": {
      "text/plain": [
       "(12854, 272)"
      ]
     },
     "execution_count": 5,
     "metadata": {},
     "output_type": "execute_result"
    }
   ],
   "source": [
    "hv.shape"
   ]
  },
  {
   "cell_type": "markdown",
   "metadata": {},
   "source": [
    "To only select the columns of one data type, we can use hv.select_dtypes() method"
   ]
  },
  {
   "cell_type": "code",
   "execution_count": 6,
   "metadata": {},
   "outputs": [
    {
     "data": {
      "text/html": [
       "<div>\n",
       "<style scoped>\n",
       "    .dataframe tbody tr th:only-of-type {\n",
       "        vertical-align: middle;\n",
       "    }\n",
       "\n",
       "    .dataframe tbody tr th {\n",
       "        vertical-align: top;\n",
       "    }\n",
       "\n",
       "    .dataframe thead th {\n",
       "        text-align: right;\n",
       "    }\n",
       "</style>\n",
       "<table border=\"1\" class=\"dataframe\">\n",
       "  <thead>\n",
       "    <tr style=\"text-align: right;\">\n",
       "      <th></th>\n",
       "      <th>RegionName</th>\n",
       "      <th>State</th>\n",
       "      <th>Metro</th>\n",
       "      <th>CountyName</th>\n",
       "    </tr>\n",
       "  </thead>\n",
       "  <tbody>\n",
       "    <tr>\n",
       "      <th>0</th>\n",
       "      <td>New York</td>\n",
       "      <td>NY</td>\n",
       "      <td>New York</td>\n",
       "      <td>Queens</td>\n",
       "    </tr>\n",
       "    <tr>\n",
       "      <th>1</th>\n",
       "      <td>Los Angeles</td>\n",
       "      <td>CA</td>\n",
       "      <td>Los Angeles-Long Beach-Anaheim</td>\n",
       "      <td>Los Angeles</td>\n",
       "    </tr>\n",
       "  </tbody>\n",
       "</table>\n",
       "</div>"
      ],
      "text/plain": [
       "    RegionName State                           Metro   CountyName\n",
       "0     New York    NY                        New York       Queens\n",
       "1  Los Angeles    CA  Los Angeles-Long Beach-Anaheim  Los Angeles"
      ]
     },
     "execution_count": 6,
     "metadata": {},
     "output_type": "execute_result"
    }
   ],
   "source": [
    "hv.select_dtypes(include=['object']).head(2)"
   ]
  },
  {
   "cell_type": "markdown",
   "metadata": {},
   "source": [
    "Alternatively, we can use hv.filter() method to select columns we are interested in."
   ]
  },
  {
   "cell_type": "code",
   "execution_count": 7,
   "metadata": {},
   "outputs": [
    {
     "data": {
      "text/html": [
       "<div>\n",
       "<style scoped>\n",
       "    .dataframe tbody tr th:only-of-type {\n",
       "        vertical-align: middle;\n",
       "    }\n",
       "\n",
       "    .dataframe tbody tr th {\n",
       "        vertical-align: top;\n",
       "    }\n",
       "\n",
       "    .dataframe thead th {\n",
       "        text-align: right;\n",
       "    }\n",
       "</style>\n",
       "<table border=\"1\" class=\"dataframe\">\n",
       "  <thead>\n",
       "    <tr style=\"text-align: right;\">\n",
       "      <th></th>\n",
       "      <th>RegionID</th>\n",
       "      <th>RegionName</th>\n",
       "    </tr>\n",
       "  </thead>\n",
       "  <tbody>\n",
       "    <tr>\n",
       "      <th>0</th>\n",
       "      <td>6181</td>\n",
       "      <td>New York</td>\n",
       "    </tr>\n",
       "    <tr>\n",
       "      <th>1</th>\n",
       "      <td>12447</td>\n",
       "      <td>Los Angeles</td>\n",
       "    </tr>\n",
       "  </tbody>\n",
       "</table>\n",
       "</div>"
      ],
      "text/plain": [
       "   RegionID   RegionName\n",
       "0      6181     New York\n",
       "1     12447  Los Angeles"
      ]
     },
     "execution_count": 7,
     "metadata": {},
     "output_type": "execute_result"
    }
   ],
   "source": [
    "hv.filter(like='Region').head(2)"
   ]
  },
  {
   "cell_type": "markdown",
   "metadata": {},
   "source": [
    "If we are interested in a particular series, we can pass a column name as a string to the indexing operator"
   ]
  },
  {
   "cell_type": "code",
   "execution_count": 8,
   "metadata": {},
   "outputs": [
    {
     "data": {
      "text/plain": [
       "0          Queens\n",
       "1     Los Angeles\n",
       "2            Cook\n",
       "3          Harris\n",
       "4    Philadelphia\n",
       "5        Maricopa\n",
       "6           Clark\n",
       "Name: CountyName, dtype: object"
      ]
     },
     "execution_count": 8,
     "metadata": {},
     "output_type": "execute_result"
    }
   ],
   "source": [
    "hv['CountyName'].head(7)"
   ]
  },
  {
   "cell_type": "markdown",
   "metadata": {},
   "source": [
    "Alternatively, to access a series, we can use the dot notation. Plus, it allows us to use autocomplete intelligence.\n",
    "If you place cursor on the object and press Shift + Tab + Tab, a Docstring will appear."
   ]
  },
  {
   "cell_type": "code",
   "execution_count": 9,
   "metadata": {},
   "outputs": [
    {
     "data": {
      "text/plain": [
       "0        New York\n",
       "1     Los Angeles\n",
       "2         Chicago\n",
       "3         Houston\n",
       "4    Philadelphia\n",
       "Name: RegionName, dtype: object"
      ]
     },
     "execution_count": 9,
     "metadata": {},
     "output_type": "execute_result"
    }
   ],
   "source": [
    "hv.RegionName.head()"
   ]
  },
  {
   "cell_type": "markdown",
   "metadata": {},
   "source": [
    "Next let's remove any columns we don't need and assign what we have left to a new dataframe hv1"
   ]
  },
  {
   "cell_type": "code",
   "execution_count": 10,
   "metadata": {},
   "outputs": [
    {
     "name": "stdout",
     "output_type": "stream",
     "text": [
      "    RegionName State   1996-04   1996-05   1996-06   1996-07   1996-08  \\\n",
      "0     New York    NY  171900.0  172100.0  172400.0  172500.0  172500.0   \n",
      "1  Los Angeles    CA  166400.0  165900.0  165500.0  164900.0  164500.0   \n",
      "2      Chicago    IL  112000.0  113100.0  113900.0  114300.0  114100.0   \n",
      "\n",
      "    1996-09   1996-10   1996-11   ...     2017-08  2017-09  2017-10  2017-11  \\\n",
      "0  172400.0  172300.0  172200.0   ...      550700   555300   558600   561500   \n",
      "1  164100.0  163800.0  163800.0   ...      671300   677400   683200   688500   \n",
      "2  113600.0  112500.0  111200.0   ...      192300   193400   194900   196600   \n",
      "\n",
      "   2017-12  2018-01  2018-02  2018-03  2018-04  2018-05  \n",
      "0   564700   570000   576700   583300   589400   593600  \n",
      "1   693800   700600   707800   712300   714100   714700  \n",
      "2   198500   200800   203100   204800   206300   207100  \n",
      "\n",
      "[3 rows x 268 columns]\n"
     ]
    }
   ],
   "source": [
    "hv1 = hv.drop(columns=['RegionID', 'Metro', 'CountyName', 'SizeRank'])\n",
    "print (hv1.head(3))"
   ]
  },
  {
   "cell_type": "markdown",
   "metadata": {},
   "source": [
    "Now let's rename the confusing 'RegionName' column to 'City' and call the resulting dataframe hv_clean"
   ]
  },
  {
   "cell_type": "code",
   "execution_count": 11,
   "metadata": {},
   "outputs": [
    {
     "name": "stdout",
     "output_type": "stream",
     "text": [
      "          City State   1996-04   1996-05   1996-06   1996-07   1996-08  \\\n",
      "0     New York    NY  171900.0  172100.0  172400.0  172500.0  172500.0   \n",
      "1  Los Angeles    CA  166400.0  165900.0  165500.0  164900.0  164500.0   \n",
      "2      Chicago    IL  112000.0  113100.0  113900.0  114300.0  114100.0   \n",
      "\n",
      "    1996-09   1996-10   1996-11   ...     2017-08  2017-09  2017-10  2017-11  \\\n",
      "0  172400.0  172300.0  172200.0   ...      550700   555300   558600   561500   \n",
      "1  164100.0  163800.0  163800.0   ...      671300   677400   683200   688500   \n",
      "2  113600.0  112500.0  111200.0   ...      192300   193400   194900   196600   \n",
      "\n",
      "   2017-12  2018-01  2018-02  2018-03  2018-04  2018-05  \n",
      "0   564700   570000   576700   583300   589400   593600  \n",
      "1   693800   700600   707800   712300   714100   714700  \n",
      "2   198500   200800   203100   204800   206300   207100  \n",
      "\n",
      "[3 rows x 268 columns]\n"
     ]
    }
   ],
   "source": [
    "col_rename = {'RegionName': 'City'}\n",
    "hv_clean = hv1.rename(columns=col_rename)\n",
    "print(hv_clean.head(3))"
   ]
  },
  {
   "cell_type": "markdown",
   "metadata": {},
   "source": [
    "## Exploring Data"
   ]
  },
  {
   "cell_type": "markdown",
   "metadata": {},
   "source": [
    "Now we have a clean dataset to start asking some questions about the data."
   ]
  },
  {
   "cell_type": "markdown",
   "metadata": {},
   "source": [
    "### Question 1. Find the city with the highest home value in 1996-04."
   ]
  },
  {
   "cell_type": "markdown",
   "metadata": {},
   "source": [
    "Answer: Aspen, CO with the average home value of just under $1.5M"
   ]
  },
  {
   "cell_type": "code",
   "execution_count": 12,
   "metadata": {},
   "outputs": [
    {
     "data": {
      "text/html": [
       "<div>\n",
       "<style scoped>\n",
       "    .dataframe tbody tr th:only-of-type {\n",
       "        vertical-align: middle;\n",
       "    }\n",
       "\n",
       "    .dataframe tbody tr th {\n",
       "        vertical-align: top;\n",
       "    }\n",
       "\n",
       "    .dataframe thead th {\n",
       "        text-align: right;\n",
       "    }\n",
       "</style>\n",
       "<table border=\"1\" class=\"dataframe\">\n",
       "  <thead>\n",
       "    <tr style=\"text-align: right;\">\n",
       "      <th></th>\n",
       "      <th>City</th>\n",
       "      <th>State</th>\n",
       "      <th>1996-04</th>\n",
       "      <th>1996-05</th>\n",
       "      <th>1996-06</th>\n",
       "      <th>1996-07</th>\n",
       "      <th>1996-08</th>\n",
       "      <th>1996-09</th>\n",
       "      <th>1996-10</th>\n",
       "      <th>1996-11</th>\n",
       "      <th>...</th>\n",
       "      <th>2017-08</th>\n",
       "      <th>2017-09</th>\n",
       "      <th>2017-10</th>\n",
       "      <th>2017-11</th>\n",
       "      <th>2017-12</th>\n",
       "      <th>2018-01</th>\n",
       "      <th>2018-02</th>\n",
       "      <th>2018-03</th>\n",
       "      <th>2018-04</th>\n",
       "      <th>2018-05</th>\n",
       "    </tr>\n",
       "  </thead>\n",
       "  <tbody>\n",
       "    <tr>\n",
       "      <th>4008</th>\n",
       "      <td>Aspen</td>\n",
       "      <td>CO</td>\n",
       "      <td>1469500.0</td>\n",
       "      <td>1476900.0</td>\n",
       "      <td>1484300.0</td>\n",
       "      <td>1491900.0</td>\n",
       "      <td>1499600.0</td>\n",
       "      <td>1507400.0</td>\n",
       "      <td>1515700.0</td>\n",
       "      <td>1524400.0</td>\n",
       "      <td>...</td>\n",
       "      <td>4062700</td>\n",
       "      <td>4103600</td>\n",
       "      <td>4122900</td>\n",
       "      <td>4153700</td>\n",
       "      <td>4200000</td>\n",
       "      <td>4307000</td>\n",
       "      <td>4494100</td>\n",
       "      <td>4662500</td>\n",
       "      <td>4752300</td>\n",
       "      <td>4787900</td>\n",
       "    </tr>\n",
       "    <tr>\n",
       "      <th>11343</th>\n",
       "      <td>Snowmass Village</td>\n",
       "      <td>CO</td>\n",
       "      <td>1424300.0</td>\n",
       "      <td>1408100.0</td>\n",
       "      <td>1392200.0</td>\n",
       "      <td>1376800.0</td>\n",
       "      <td>1362500.0</td>\n",
       "      <td>1349600.0</td>\n",
       "      <td>1338300.0</td>\n",
       "      <td>1329200.0</td>\n",
       "      <td>...</td>\n",
       "      <td>2514800</td>\n",
       "      <td>2532900</td>\n",
       "      <td>2535700</td>\n",
       "      <td>2536400</td>\n",
       "      <td>2542000</td>\n",
       "      <td>2596800</td>\n",
       "      <td>2713800</td>\n",
       "      <td>2832000</td>\n",
       "      <td>2905400</td>\n",
       "      <td>2944900</td>\n",
       "    </tr>\n",
       "    <tr>\n",
       "      <th>5156</th>\n",
       "      <td>Atherton</td>\n",
       "      <td>CA</td>\n",
       "      <td>1181800.0</td>\n",
       "      <td>1186900.0</td>\n",
       "      <td>1192300.0</td>\n",
       "      <td>1197900.0</td>\n",
       "      <td>1203500.0</td>\n",
       "      <td>1209500.0</td>\n",
       "      <td>1216200.0</td>\n",
       "      <td>1223400.0</td>\n",
       "      <td>...</td>\n",
       "      <td>6189400</td>\n",
       "      <td>6242400</td>\n",
       "      <td>6315100</td>\n",
       "      <td>6427000</td>\n",
       "      <td>6567200</td>\n",
       "      <td>6706900</td>\n",
       "      <td>6814900</td>\n",
       "      <td>6834200</td>\n",
       "      <td>6835300</td>\n",
       "      <td>6854700</td>\n",
       "    </tr>\n",
       "    <tr>\n",
       "      <th>12053</th>\n",
       "      <td>Jupiter Island</td>\n",
       "      <td>FL</td>\n",
       "      <td>1171200.0</td>\n",
       "      <td>1173700.0</td>\n",
       "      <td>1176300.0</td>\n",
       "      <td>1178900.0</td>\n",
       "      <td>1181800.0</td>\n",
       "      <td>1184800.0</td>\n",
       "      <td>1188400.0</td>\n",
       "      <td>1191100.0</td>\n",
       "      <td>...</td>\n",
       "      <td>4437700</td>\n",
       "      <td>4478900</td>\n",
       "      <td>4514200</td>\n",
       "      <td>4536000</td>\n",
       "      <td>4501700</td>\n",
       "      <td>4528000</td>\n",
       "      <td>4709700</td>\n",
       "      <td>4858700</td>\n",
       "      <td>4908800</td>\n",
       "      <td>4986300</td>\n",
       "    </tr>\n",
       "    <tr>\n",
       "      <th>11633</th>\n",
       "      <td>Alpine</td>\n",
       "      <td>NJ</td>\n",
       "      <td>1075800.0</td>\n",
       "      <td>1076400.0</td>\n",
       "      <td>1077000.0</td>\n",
       "      <td>1077600.0</td>\n",
       "      <td>1078300.0</td>\n",
       "      <td>1079000.0</td>\n",
       "      <td>1079800.0</td>\n",
       "      <td>1080700.0</td>\n",
       "      <td>...</td>\n",
       "      <td>2986700</td>\n",
       "      <td>3059700</td>\n",
       "      <td>3112100</td>\n",
       "      <td>3098800</td>\n",
       "      <td>3068600</td>\n",
       "      <td>3081300</td>\n",
       "      <td>3091000</td>\n",
       "      <td>3080900</td>\n",
       "      <td>3042500</td>\n",
       "      <td>2993200</td>\n",
       "    </tr>\n",
       "    <tr>\n",
       "      <th>10249</th>\n",
       "      <td>Rolling Hills</td>\n",
       "      <td>CA</td>\n",
       "      <td>1033500.0</td>\n",
       "      <td>1038800.0</td>\n",
       "      <td>1043700.0</td>\n",
       "      <td>1048000.0</td>\n",
       "      <td>1051800.0</td>\n",
       "      <td>1055300.0</td>\n",
       "      <td>1058500.0</td>\n",
       "      <td>1061500.0</td>\n",
       "      <td>...</td>\n",
       "      <td>3224900</td>\n",
       "      <td>3235600</td>\n",
       "      <td>3248000</td>\n",
       "      <td>3264100</td>\n",
       "      <td>3281100</td>\n",
       "      <td>3317600</td>\n",
       "      <td>3358000</td>\n",
       "      <td>3366700</td>\n",
       "      <td>3355100</td>\n",
       "      <td>3346100</td>\n",
       "    </tr>\n",
       "    <tr>\n",
       "      <th>8449</th>\n",
       "      <td>Westlake</td>\n",
       "      <td>TX</td>\n",
       "      <td>1024800.0</td>\n",
       "      <td>1025400.0</td>\n",
       "      <td>1026100.0</td>\n",
       "      <td>1026900.0</td>\n",
       "      <td>1028000.0</td>\n",
       "      <td>1029200.0</td>\n",
       "      <td>1030500.0</td>\n",
       "      <td>1031900.0</td>\n",
       "      <td>...</td>\n",
       "      <td>1669800</td>\n",
       "      <td>1662300</td>\n",
       "      <td>1663000</td>\n",
       "      <td>1674100</td>\n",
       "      <td>1690200</td>\n",
       "      <td>1699000</td>\n",
       "      <td>1693400</td>\n",
       "      <td>1670300</td>\n",
       "      <td>1644400</td>\n",
       "      <td>1626800</td>\n",
       "    </tr>\n",
       "    <tr>\n",
       "      <th>3862</th>\n",
       "      <td>Hillsborough</td>\n",
       "      <td>CA</td>\n",
       "      <td>1019100.0</td>\n",
       "      <td>1024300.0</td>\n",
       "      <td>1030000.0</td>\n",
       "      <td>1036100.0</td>\n",
       "      <td>1042500.0</td>\n",
       "      <td>1049300.0</td>\n",
       "      <td>1056900.0</td>\n",
       "      <td>1064800.0</td>\n",
       "      <td>...</td>\n",
       "      <td>4352100</td>\n",
       "      <td>4361700</td>\n",
       "      <td>4387500</td>\n",
       "      <td>4444700</td>\n",
       "      <td>4515200</td>\n",
       "      <td>4598100</td>\n",
       "      <td>4687100</td>\n",
       "      <td>4750400</td>\n",
       "      <td>4744300</td>\n",
       "      <td>4701400</td>\n",
       "    </tr>\n",
       "    <tr>\n",
       "      <th>9502</th>\n",
       "      <td>Belvedere</td>\n",
       "      <td>CA</td>\n",
       "      <td>1008400.0</td>\n",
       "      <td>1001800.0</td>\n",
       "      <td>995200.0</td>\n",
       "      <td>988400.0</td>\n",
       "      <td>982000.0</td>\n",
       "      <td>976000.0</td>\n",
       "      <td>970800.0</td>\n",
       "      <td>966200.0</td>\n",
       "      <td>...</td>\n",
       "      <td>3665000</td>\n",
       "      <td>3641200</td>\n",
       "      <td>3634600</td>\n",
       "      <td>3637400</td>\n",
       "      <td>3657100</td>\n",
       "      <td>3708100</td>\n",
       "      <td>3742500</td>\n",
       "      <td>3741300</td>\n",
       "      <td>3716400</td>\n",
       "      <td>3698000</td>\n",
       "    </tr>\n",
       "    <tr>\n",
       "      <th>4930</th>\n",
       "      <td>Los Altos Hills</td>\n",
       "      <td>CA</td>\n",
       "      <td>982600.0</td>\n",
       "      <td>987500.0</td>\n",
       "      <td>992700.0</td>\n",
       "      <td>998200.0</td>\n",
       "      <td>1003900.0</td>\n",
       "      <td>1010000.0</td>\n",
       "      <td>1016800.0</td>\n",
       "      <td>1024200.0</td>\n",
       "      <td>...</td>\n",
       "      <td>4370300</td>\n",
       "      <td>4442600</td>\n",
       "      <td>4531900</td>\n",
       "      <td>4621700</td>\n",
       "      <td>4681100</td>\n",
       "      <td>4749800</td>\n",
       "      <td>4846000</td>\n",
       "      <td>4928800</td>\n",
       "      <td>4994700</td>\n",
       "      <td>5040900</td>\n",
       "    </tr>\n",
       "  </tbody>\n",
       "</table>\n",
       "<p>10 rows × 268 columns</p>\n",
       "</div>"
      ],
      "text/plain": [
       "                   City State    1996-04    1996-05    1996-06    1996-07  \\\n",
       "4008              Aspen    CO  1469500.0  1476900.0  1484300.0  1491900.0   \n",
       "11343  Snowmass Village    CO  1424300.0  1408100.0  1392200.0  1376800.0   \n",
       "5156           Atherton    CA  1181800.0  1186900.0  1192300.0  1197900.0   \n",
       "12053    Jupiter Island    FL  1171200.0  1173700.0  1176300.0  1178900.0   \n",
       "11633            Alpine    NJ  1075800.0  1076400.0  1077000.0  1077600.0   \n",
       "10249     Rolling Hills    CA  1033500.0  1038800.0  1043700.0  1048000.0   \n",
       "8449           Westlake    TX  1024800.0  1025400.0  1026100.0  1026900.0   \n",
       "3862       Hillsborough    CA  1019100.0  1024300.0  1030000.0  1036100.0   \n",
       "9502          Belvedere    CA  1008400.0  1001800.0   995200.0   988400.0   \n",
       "4930    Los Altos Hills    CA   982600.0   987500.0   992700.0   998200.0   \n",
       "\n",
       "         1996-08    1996-09    1996-10    1996-11   ...     2017-08  2017-09  \\\n",
       "4008   1499600.0  1507400.0  1515700.0  1524400.0   ...     4062700  4103600   \n",
       "11343  1362500.0  1349600.0  1338300.0  1329200.0   ...     2514800  2532900   \n",
       "5156   1203500.0  1209500.0  1216200.0  1223400.0   ...     6189400  6242400   \n",
       "12053  1181800.0  1184800.0  1188400.0  1191100.0   ...     4437700  4478900   \n",
       "11633  1078300.0  1079000.0  1079800.0  1080700.0   ...     2986700  3059700   \n",
       "10249  1051800.0  1055300.0  1058500.0  1061500.0   ...     3224900  3235600   \n",
       "8449   1028000.0  1029200.0  1030500.0  1031900.0   ...     1669800  1662300   \n",
       "3862   1042500.0  1049300.0  1056900.0  1064800.0   ...     4352100  4361700   \n",
       "9502    982000.0   976000.0   970800.0   966200.0   ...     3665000  3641200   \n",
       "4930   1003900.0  1010000.0  1016800.0  1024200.0   ...     4370300  4442600   \n",
       "\n",
       "       2017-10  2017-11  2017-12  2018-01  2018-02  2018-03  2018-04  2018-05  \n",
       "4008   4122900  4153700  4200000  4307000  4494100  4662500  4752300  4787900  \n",
       "11343  2535700  2536400  2542000  2596800  2713800  2832000  2905400  2944900  \n",
       "5156   6315100  6427000  6567200  6706900  6814900  6834200  6835300  6854700  \n",
       "12053  4514200  4536000  4501700  4528000  4709700  4858700  4908800  4986300  \n",
       "11633  3112100  3098800  3068600  3081300  3091000  3080900  3042500  2993200  \n",
       "10249  3248000  3264100  3281100  3317600  3358000  3366700  3355100  3346100  \n",
       "8449   1663000  1674100  1690200  1699000  1693400  1670300  1644400  1626800  \n",
       "3862   4387500  4444700  4515200  4598100  4687100  4750400  4744300  4701400  \n",
       "9502   3634600  3637400  3657100  3708100  3742500  3741300  3716400  3698000  \n",
       "4930   4531900  4621700  4681100  4749800  4846000  4928800  4994700  5040900  \n",
       "\n",
       "[10 rows x 268 columns]"
      ]
     },
     "execution_count": 12,
     "metadata": {},
     "output_type": "execute_result"
    }
   ],
   "source": [
    "hv_clean.sort_values('1996-04', ascending=False).head(10)"
   ]
  },
  {
   "cell_type": "markdown",
   "metadata": {},
   "source": [
    "### Question 2. Find the city with the highest home values in 2018-05."
   ]
  },
  {
   "cell_type": "markdown",
   "metadata": {},
   "source": [
    "Answer: Atherton, CA with the average home value of about $6.8M. Interestingly, 7 cities in the top 10 in 2018 are in CA."
   ]
  },
  {
   "cell_type": "code",
   "execution_count": 13,
   "metadata": {},
   "outputs": [
    {
     "name": "stdout",
     "output_type": "stream",
     "text": [
      "                  City State    1996-04    1996-05    1996-06    1996-07  \\\n",
      "5156          Atherton    CA  1181800.0  1186900.0  1192300.0  1197900.0   \n",
      "1322     Beverly Hills    CA   961000.0   960100.0   959400.0   958600.0   \n",
      "4930   Los Altos Hills    CA   982600.0   987500.0   992700.0   998200.0   \n",
      "12053   Jupiter Island    FL  1171200.0  1173700.0  1176300.0  1178900.0   \n",
      "4008             Aspen    CO  1469500.0  1476900.0  1484300.0  1491900.0   \n",
      "4680        Palm Beach    FL   968600.0   968500.0   968400.0   968400.0   \n",
      "3862      Hillsborough    CA  1019100.0  1024300.0  1030000.0  1036100.0   \n",
      "7062    Portola Valley    CA   968700.0   974200.0   979900.0   985900.0   \n",
      "4363          Woodside    CA   798300.0   799000.0   799800.0   800900.0   \n",
      "9502         Belvedere    CA  1008400.0  1001800.0   995200.0   988400.0   \n",
      "\n",
      "         1996-08    1996-09    1996-10    1996-11   ...     2017-08  2017-09  \\\n",
      "5156   1203500.0  1209500.0  1216200.0  1223400.0   ...     6189400  6242400   \n",
      "1322    958200.0   958300.0   959500.0   961700.0   ...     5374900  5438600   \n",
      "4930   1003900.0  1010000.0  1016800.0  1024200.0   ...     4370300  4442600   \n",
      "12053  1181800.0  1184800.0  1188400.0  1191100.0   ...     4437700  4478900   \n",
      "4008   1499600.0  1507400.0  1515700.0  1524400.0   ...     4062700  4103600   \n",
      "4680    968500.0   969000.0   970100.0   971800.0   ...     4574900  4595400   \n",
      "3862   1042500.0  1049300.0  1056900.0  1064800.0   ...     4352100  4361700   \n",
      "7062    992000.0   998400.0  1005600.0  1012800.0   ...     3915500  3941800   \n",
      "4363    802300.0   804100.0   806300.0   808800.0   ...     3696500  3693700   \n",
      "9502    982000.0   976000.0   970800.0   966200.0   ...     3665000  3641200   \n",
      "\n",
      "       2017-10  2017-11  2017-12  2018-01  2018-02  2018-03  2018-04  2018-05  \n",
      "5156   6315100  6427000  6567200  6706900  6814900  6834200  6835300  6854700  \n",
      "1322   5493700  5570100  5657400  5766600  5877500  5942700  5956600  5964800  \n",
      "4930   4531900  4621700  4681100  4749800  4846000  4928800  4994700  5040900  \n",
      "12053  4514200  4536000  4501700  4528000  4709700  4858700  4908800  4986300  \n",
      "4008   4122900  4153700  4200000  4307000  4494100  4662500  4752300  4787900  \n",
      "4680   4622100  4643200  4663800  4695500  4734900  4750700  4732500  4715100  \n",
      "3862   4387500  4444700  4515200  4598100  4687100  4750400  4744300  4701400  \n",
      "7062   3983700  4047400  4125900  4197900  4264500  4320600  4371400  4409100  \n",
      "4363   3717900  3748000  3765900  3790400  3800900  3775800  3739200  3717600  \n",
      "9502   3634600  3637400  3657100  3708100  3742500  3741300  3716400  3698000  \n",
      "\n",
      "[10 rows x 268 columns]\n"
     ]
    }
   ],
   "source": [
    "top10 = hv_clean.sort_values('2018-05', ascending=False).head(10)\n",
    "print(top10)"
   ]
  },
  {
   "cell_type": "markdown",
   "metadata": {},
   "source": [
    "### Question 3. By how much had the average Home Value changed in the top US city in the last 22 years?"
   ]
  },
  {
   "cell_type": "markdown",
   "metadata": {},
   "source": [
    "To answer that question, we'll need to grab the values in the first row using .iloc"
   ]
  },
  {
   "cell_type": "markdown",
   "metadata": {},
   "source": [
    "Answer: average home values in Atherton, CA went up by about $5.6M in the last 22 years."
   ]
  },
  {
   "cell_type": "code",
   "execution_count": 14,
   "metadata": {},
   "outputs": [
    {
     "data": {
      "text/plain": [
       "5672900.0"
      ]
     },
     "execution_count": 14,
     "metadata": {},
     "output_type": "execute_result"
    }
   ],
   "source": [
    "top10.iloc[0]['2018-05']-top10.iloc[0]['1996-04']"
   ]
  },
  {
   "cell_type": "markdown",
   "metadata": {},
   "source": [
    "### Question 4. What city had the max percentage change in home values over the last 22 years?"
   ]
  },
  {
   "cell_type": "markdown",
   "metadata": {},
   "source": [
    "In order to answer, we first group home values by city"
   ]
  },
  {
   "cell_type": "code",
   "execution_count": 15,
   "metadata": {},
   "outputs": [
    {
     "name": "stdout",
     "output_type": "stream",
     "text": [
      "                   1996-04    2018-05\n",
      "City                                 \n",
      "Abbeville          48000.0   73100.00\n",
      "Aberdeen           85575.0  137900.00\n",
      "Abernathy          39100.0   80400.00\n",
      "Abilene            56900.0  111550.00\n",
      "Abingdon           74100.0  154600.00\n",
      "Abington          136050.0  333866.67\n",
      "Abita Springs      68700.0  184700.00\n",
      "Abram-Perezville   63200.0   83200.00\n",
      "Abrams            109000.0  186500.00\n",
      "Absecon           105900.0  161100.00\n",
      "Acampo            182200.0  543900.00\n",
      "Accident           47400.0  153000.00\n",
      "Accokeek          207100.0  388700.00\n",
      "Ackerman               NaN   83300.00\n",
      "Acres Green       135100.0  396700.00\n",
      "Acton             245500.0  603250.00\n",
      "Acushnet          110300.0  286900.00\n",
      "Acworth           117900.0  213600.00\n",
      "Ada                54200.0  108850.00\n",
      "Adair              41600.0  116800.00\n"
     ]
    }
   ],
   "source": [
    "hv_clean_cropped = hv_clean.groupby('City')['1996-04', '2018-05'].agg('mean').round(2)\n",
    "print(hv_clean_cropped.head(20))"
   ]
  },
  {
   "cell_type": "markdown",
   "metadata": {},
   "source": [
    "We can calculate the percentage change using the formula (End - beginning) / beginning * 100. \n",
    "Or we can use pct_change() method to do the same."
   ]
  },
  {
   "cell_type": "code",
   "execution_count": 16,
   "metadata": {},
   "outputs": [
    {
     "name": "stdout",
     "output_type": "stream",
     "text": [
      "           1996-04   2018-05      Change\n",
      "City                                    \n",
      "Abbeville  48000.0   73100.0   52.291667\n",
      "Aberdeen   85575.0  137900.0   61.145194\n",
      "Abernathy  39100.0   80400.0  105.626598\n",
      "Abilene    56900.0  111550.0   96.045694\n",
      "Abingdon   74100.0  154600.0  108.636977\n"
     ]
    }
   ],
   "source": [
    "hv_clean_cropped['Change'] = hv_clean_cropped.pct_change(axis = 1)['2018-05'] * 100\n",
    "print(hv_clean_cropped.head())"
   ]
  },
  {
   "cell_type": "code",
   "execution_count": 17,
   "metadata": {},
   "outputs": [
    {
     "data": {
      "text/html": [
       "<div>\n",
       "<style scoped>\n",
       "    .dataframe tbody tr th:only-of-type {\n",
       "        vertical-align: middle;\n",
       "    }\n",
       "\n",
       "    .dataframe tbody tr th {\n",
       "        vertical-align: top;\n",
       "    }\n",
       "\n",
       "    .dataframe thead th {\n",
       "        text-align: right;\n",
       "    }\n",
       "</style>\n",
       "<table border=\"1\" class=\"dataframe\">\n",
       "  <thead>\n",
       "    <tr style=\"text-align: right;\">\n",
       "      <th></th>\n",
       "      <th>1996-04</th>\n",
       "      <th>2018-05</th>\n",
       "      <th>Change</th>\n",
       "    </tr>\n",
       "    <tr>\n",
       "      <th>City</th>\n",
       "      <th></th>\n",
       "      <th></th>\n",
       "      <th></th>\n",
       "    </tr>\n",
       "  </thead>\n",
       "  <tbody>\n",
       "    <tr>\n",
       "      <th>Wainscott</th>\n",
       "      <td>354600.0</td>\n",
       "      <td>3469000.0</td>\n",
       "      <td>878.285392</td>\n",
       "    </tr>\n",
       "    <tr>\n",
       "      <th>Amagansett</th>\n",
       "      <td>328900.0</td>\n",
       "      <td>3104100.0</td>\n",
       "      <td>843.782305</td>\n",
       "    </tr>\n",
       "    <tr>\n",
       "      <th>North Haven</th>\n",
       "      <td>270900.0</td>\n",
       "      <td>2448000.0</td>\n",
       "      <td>803.654485</td>\n",
       "    </tr>\n",
       "    <tr>\n",
       "      <th>Warriors Mark</th>\n",
       "      <td>22600.0</td>\n",
       "      <td>190500.0</td>\n",
       "      <td>742.920354</td>\n",
       "    </tr>\n",
       "    <tr>\n",
       "      <th>Bridgehampton</th>\n",
       "      <td>321600.0</td>\n",
       "      <td>2647200.0</td>\n",
       "      <td>723.134328</td>\n",
       "    </tr>\n",
       "  </tbody>\n",
       "</table>\n",
       "</div>"
      ],
      "text/plain": [
       "                1996-04    2018-05      Change\n",
       "City                                          \n",
       "Wainscott      354600.0  3469000.0  878.285392\n",
       "Amagansett     328900.0  3104100.0  843.782305\n",
       "North Haven    270900.0  2448000.0  803.654485\n",
       "Warriors Mark   22600.0   190500.0  742.920354\n",
       "Bridgehampton  321600.0  2647200.0  723.134328"
      ]
     },
     "execution_count": 17,
     "metadata": {},
     "output_type": "execute_result"
    }
   ],
   "source": [
    "hv_clean_cropped.sort_values('Change', ascending = False).head()"
   ]
  },
  {
   "cell_type": "markdown",
   "metadata": {},
   "source": [
    "Answer to Q4: Wainscott, NY had the biggest percent change in the last 22 years. Home values in that city went from $350K to $3.5M."
   ]
  },
  {
   "cell_type": "markdown",
   "metadata": {},
   "source": [
    "### Question 5. What US city had the lowest home values in 2018-05?"
   ]
  },
  {
   "cell_type": "markdown",
   "metadata": {},
   "source": [
    "Answer: Earle, AR with the average home value of just $12.5K"
   ]
  },
  {
   "cell_type": "code",
   "execution_count": 18,
   "metadata": {},
   "outputs": [
    {
     "name": "stdout",
     "output_type": "stream",
     "text": [
      "               City State  1996-04  1996-05  1996-06  1996-07  1996-08  \\\n",
      "7813          Earle    AR  18300.0  18300.0  18400.0  18500.0  18600.0   \n",
      "220           Flint    MI  45600.0  46100.0  46500.0  46900.0  47300.0   \n",
      "11383     Montezuma    IN      NaN      NaN      NaN      NaN      NaN   \n",
      "9240          Milan    MO      NaN      NaN      NaN      NaN      NaN   \n",
      "12621    Earlington    KY  15900.0  15900.0  15800.0  15900.0  15900.0   \n",
      "12638      Nunnelly    TN   9100.0   9200.0   9300.0   9300.0   9400.0   \n",
      "10043      Commerce    OK  16400.0  16400.0  16400.0  16400.0  16500.0   \n",
      "9915          Naoma    WV  28600.0  28500.0  28300.0  28100.0  27900.0   \n",
      "12119         Blair    SC      NaN      NaN      NaN      NaN      NaN   \n",
      "10706  Society Hill    SC  20600.0  20600.0  20600.0  20500.0  20400.0   \n",
      "\n",
      "       1996-09  1996-10  1996-11   ...     2017-08  2017-09  2017-10  2017-11  \\\n",
      "7813   18700.0  18800.0  19000.0   ...       14300    14300    14300    14200   \n",
      "220    47500.0  47700.0  47900.0   ...       13900    14300    14900    15500   \n",
      "11383      NaN      NaN      NaN   ...       20800    20700    20500    20600   \n",
      "9240       NaN      NaN      NaN   ...       21300    21900    22000    21700   \n",
      "12621  15900.0  15900.0  15900.0   ...       25100    25800    26100    25700   \n",
      "12638   9500.0   9500.0   9600.0   ...       25800    26100    26300    26500   \n",
      "10043  16500.0  16500.0  16600.0   ...       25400    25400    25300    25600   \n",
      "9915   27700.0  27500.0  27300.0   ...       31000    31000    30900    30700   \n",
      "12119      NaN      NaN      NaN   ...       30500    30700    31300    31200   \n",
      "10706  20400.0  20400.0  20300.0   ...       31400    31600    31600    30900   \n",
      "\n",
      "       2017-12  2018-01  2018-02  2018-03  2018-04  2018-05  \n",
      "7813     13900    13500    13000    12700    12500    12500  \n",
      "220      15900    16200    16700    17400    17800    18100  \n",
      "11383    20200    19500    19100    18800    18500    18400  \n",
      "9240     21800    22000    22100    22200    22200    22200  \n",
      "12621    25200    25100    24900    24200    23700    23500  \n",
      "12638    26600    26700    26700    26500    26200    25800  \n",
      "10043    26000    26300    26600    27200    28000    28400  \n",
      "9915     30400    30400    30500    30700    30400    29800  \n",
      "12119    31200    31100    30500    30100    30200    30700  \n",
      "10706    30200    30300    30300    30100    30500    31200  \n",
      "\n",
      "[10 rows x 268 columns]\n"
     ]
    }
   ],
   "source": [
    "bottom10 = hv_clean.sort_values('2018-05').head(10)\n",
    "print(bottom10)"
   ]
  },
  {
   "cell_type": "markdown",
   "metadata": {},
   "source": [
    "The home value in Earle, AR actually decreased by $5.8K over the last 22 years. "
   ]
  },
  {
   "cell_type": "code",
   "execution_count": 19,
   "metadata": {},
   "outputs": [
    {
     "data": {
      "text/plain": [
       "-5800.0"
      ]
     },
     "execution_count": 19,
     "metadata": {},
     "output_type": "execute_result"
    }
   ],
   "source": [
    "bottom10.iloc[0]['2018-05']-bottom10.iloc[0]['1996-04']"
   ]
  },
  {
   "cell_type": "markdown",
   "metadata": {},
   "source": [
    "### Question 6. Find the median home value in the country in 2018-05 and create a comparison column showing if a city is above (1) or below the median (0)"
   ]
  },
  {
   "cell_type": "code",
   "execution_count": 20,
   "metadata": {},
   "outputs": [
    {
     "name": "stdout",
     "output_type": "stream",
     "text": [
      "             City State  2018-05  Comparison\n",
      "0        New York    NY   593600           1\n",
      "1     Los Angeles    CA   714700           1\n",
      "2         Chicago    IL   207100           1\n",
      "3         Houston    TX   185300           1\n",
      "4    Philadelphia    PA   141300           0\n",
      "5         Phoenix    AZ   242400           1\n",
      "6       Las Vegas    NV   270800           1\n",
      "7     San Antonio    TX   167400           0\n",
      "8       San Diego    CA   700800           1\n",
      "9          Dallas    TX   199000           1\n",
      "10       San Jose    CA  1182700           1\n",
      "11   Jacksonville    FL   170500           0\n",
      "12  San Francisco    CA  1420600           1\n",
      "13   Indianapolis    IN   129700           0\n",
      "14         Austin    TX   359000           1\n",
      "15     Fort Worth    TX   182600           0\n",
      "16       Columbus    OH   153400           0\n",
      "17        Memphis    TN    78600           0\n",
      "18      Charlotte    NC   217400           1\n",
      "19        El Paso    TX   123400           0\n"
     ]
    }
   ],
   "source": [
    "latest_median = hv_clean['2018-05'].median()\n",
    "hv_clean['Comparison'] = np.where(hv_clean['2018-05'] > latest_median, 1, 0)\n",
    "print(hv_clean[['City','State','2018-05', 'Comparison']].head(20))"
   ]
  },
  {
   "cell_type": "markdown",
   "metadata": {},
   "source": [
    "### Question 7. Calculate the percentage of home values that fall between 1, 2, and 3 standard deviations from the mean "
   ]
  },
  {
   "cell_type": "markdown",
   "metadata": {},
   "source": [
    "In order to do that, we first find the mean and standard deviation of home values for 2018-05."
   ]
  },
  {
   "cell_type": "code",
   "execution_count": 21,
   "metadata": {},
   "outputs": [
    {
     "name": "stdout",
     "output_type": "stream",
     "text": [
      "257509.63902287226\n"
     ]
    }
   ],
   "source": [
    "mean = hv_clean['2018-05'].mean()\n",
    "print(mean)"
   ]
  },
  {
   "cell_type": "code",
   "execution_count": 22,
   "metadata": {},
   "outputs": [
    {
     "name": "stdout",
     "output_type": "stream",
     "text": [
      "293266.0347965812\n"
     ]
    }
   ],
   "source": [
    "std = hv_clean['2018-05'].std()\n",
    "print(std)"
   ]
  },
  {
   "cell_type": "markdown",
   "metadata": {},
   "source": [
    "Calculate the absolute value of the z-score for each observation. \n",
    "The z-score is the number of standard deviations away from the mean"
   ]
  },
  {
   "cell_type": "code",
   "execution_count": 23,
   "metadata": {},
   "outputs": [],
   "source": [
    "abs_z_score = hv_clean['2018-05'].sub(mean).abs().div(std)"
   ]
  },
  {
   "cell_type": "markdown",
   "metadata": {},
   "source": [
    "Normal distributions approximately follow the 68-95-99.7 rule, meaning that 68% of the data falls between 1 standard deviation of the mean, 95% between 2, and 99.7% between 3."
   ]
  },
  {
   "cell_type": "code",
   "execution_count": 24,
   "metadata": {},
   "outputs": [
    {
     "name": "stdout",
     "output_type": "stream",
     "text": [
      "0.929 fall within 1 standard deviation. 0.973 within 2 and 0.985 within 3\n"
     ]
    }
   ],
   "source": [
    "pcts = [abs_z_score.lt(i).mean() for i in range(1,4)]\n",
    "print('{:.3f} fall within 1 standard deviation. '\n",
    "'{:.3f} within 2 and {:.3f} within 3'.format(*pcts))"
   ]
  },
  {
   "cell_type": "markdown",
   "metadata": {},
   "source": [
    "### Question 8. Find the average home value per state in 1996-04 and 2018-05. Create a new column showing the the difference between home values in 1996 and 2018. Highlight the state where home values went up the most."
   ]
  },
  {
   "cell_type": "code",
   "execution_count": 25,
   "metadata": {},
   "outputs": [
    {
     "name": "stdout",
     "output_type": "stream",
     "text": [
      "         1996-04    2018-05\n",
      "State                      \n",
      "AK     122223.53  281182.35\n",
      "AL      85170.68  150937.18\n",
      "AR      65677.32  133975.24\n",
      "AZ     106174.00  242002.63\n",
      "CA     201173.03  700796.98\n",
      "CO     159908.24  468837.71\n",
      "CT     165142.31  304502.88\n",
      "DC     121300.00  682100.00\n",
      "DE     106100.00  256270.59\n",
      "FL     112332.06  330214.84\n",
      "GA      87795.45  188527.14\n",
      "HI     194406.67  620637.25\n",
      "IA      72046.79  167225.29\n",
      "ID      90223.08  237984.62\n",
      "IL     127737.27  193839.54\n",
      "IN      86371.94  130694.07\n",
      "KS      69861.61  126706.49\n",
      "KY      78194.59  145905.56\n",
      "LA      61715.38  136964.34\n",
      "MA     161231.45  437415.05\n",
      "MD     143773.72  322914.00\n",
      "ME      92553.75  245457.78\n",
      "MI      89065.25  165337.26\n",
      "MN      89603.83  221726.25\n",
      "MO      95932.44  167132.96\n",
      "MS      85788.68  113653.28\n",
      "MT     155502.44  227814.52\n",
      "NC      83535.93  183257.62\n",
      "ND           NaN  179692.59\n",
      "NE      77584.85  162697.73\n",
      "NH     108060.96  270342.33\n",
      "NJ     174845.74  400447.16\n",
      "NM     136173.33  211986.84\n",
      "NV     174919.05  393617.24\n",
      "NY     116403.56  277440.64\n",
      "OH      91264.96  150545.25\n",
      "OK      47788.03  104134.69\n",
      "OR     119324.40  306324.73\n",
      "PA      92689.76  187817.62\n",
      "RI     131016.67  333254.76\n",
      "SC      79368.21  186326.54\n",
      "SD      63822.22  205342.86\n",
      "TN      61020.29  142832.58\n",
      "TX     105413.77  194386.98\n",
      "UT     159919.83  317959.50\n",
      "VA     110800.36  251823.78\n",
      "VT      98613.64  215352.08\n",
      "WA     139468.86  383162.99\n",
      "WI     117401.47  202623.00\n",
      "WV      61441.94  118406.90\n",
      "WY     141684.21  241512.00\n"
     ]
    }
   ],
   "source": [
    "hv_by_state = hv_clean.groupby('State') ['1996-04', '2018-05'].agg('mean').round(2)\n",
    "print(hv_by_state)"
   ]
  },
  {
   "cell_type": "code",
   "execution_count": 26,
   "metadata": {},
   "outputs": [
    {
     "name": "stdout",
     "output_type": "stream",
     "text": [
      "         1996-04    2018-05  Difference\n",
      "State                                  \n",
      "AK     122223.53  281182.35   158958.82\n",
      "AL      85170.68  150937.18    65766.50\n",
      "AR      65677.32  133975.24    68297.92\n",
      "AZ     106174.00  242002.63   135828.63\n",
      "CA     201173.03  700796.98   499623.95\n",
      "CO     159908.24  468837.71   308929.47\n",
      "CT     165142.31  304502.88   139360.57\n",
      "DC     121300.00  682100.00   560800.00\n",
      "DE     106100.00  256270.59   150170.59\n",
      "FL     112332.06  330214.84   217882.78\n",
      "GA      87795.45  188527.14   100731.69\n",
      "HI     194406.67  620637.25   426230.58\n",
      "IA      72046.79  167225.29    95178.50\n",
      "ID      90223.08  237984.62   147761.54\n",
      "IL     127737.27  193839.54    66102.27\n",
      "IN      86371.94  130694.07    44322.13\n",
      "KS      69861.61  126706.49    56844.88\n",
      "KY      78194.59  145905.56    67710.97\n",
      "LA      61715.38  136964.34    75248.96\n",
      "MA     161231.45  437415.05   276183.60\n",
      "MD     143773.72  322914.00   179140.28\n",
      "ME      92553.75  245457.78   152904.03\n",
      "MI      89065.25  165337.26    76272.01\n",
      "MN      89603.83  221726.25   132122.42\n",
      "MO      95932.44  167132.96    71200.52\n",
      "MS      85788.68  113653.28    27864.60\n",
      "MT     155502.44  227814.52    72312.08\n",
      "NC      83535.93  183257.62    99721.69\n",
      "ND           NaN  179692.59         NaN\n",
      "NE      77584.85  162697.73    85112.88\n",
      "NH     108060.96  270342.33   162281.37\n",
      "NJ     174845.74  400447.16   225601.42\n",
      "NM     136173.33  211986.84    75813.51\n",
      "NV     174919.05  393617.24   218698.19\n",
      "NY     116403.56  277440.64   161037.08\n",
      "OH      91264.96  150545.25    59280.29\n",
      "OK      47788.03  104134.69    56346.66\n",
      "OR     119324.40  306324.73   187000.33\n",
      "PA      92689.76  187817.62    95127.86\n",
      "RI     131016.67  333254.76   202238.09\n",
      "SC      79368.21  186326.54   106958.33\n",
      "SD      63822.22  205342.86   141520.64\n",
      "TN      61020.29  142832.58    81812.29\n",
      "TX     105413.77  194386.98    88973.21\n",
      "UT     159919.83  317959.50   158039.67\n",
      "VA     110800.36  251823.78   141023.42\n",
      "VT      98613.64  215352.08   116738.44\n",
      "WA     139468.86  383162.99   243694.13\n",
      "WI     117401.47  202623.00    85221.53\n",
      "WV      61441.94  118406.90    56964.96\n",
      "WY     141684.21  241512.00    99827.79\n"
     ]
    }
   ],
   "source": [
    "hv_by_state['Difference'] = hv_by_state['2018-05'] - hv_by_state['1996-04']\n",
    "print(hv_by_state)"
   ]
  },
  {
   "cell_type": "code",
   "execution_count": 27,
   "metadata": {},
   "outputs": [
    {
     "data": {
      "text/html": [
       "<style  type=\"text/css\" >\n",
       "    #T_68a606f4_dbc8_11e8_b05a_3860774d51f3row7_col2 {\n",
       "            background-color:  yellow;\n",
       "        }</style>  \n",
       "<table id=\"T_68a606f4_dbc8_11e8_b05a_3860774d51f3\" > \n",
       "<thead>    <tr> \n",
       "        <th class=\"blank level0\" ></th> \n",
       "        <th class=\"col_heading level0 col0\" >1996-04</th> \n",
       "        <th class=\"col_heading level0 col1\" >2018-05</th> \n",
       "        <th class=\"col_heading level0 col2\" >Difference</th> \n",
       "    </tr>    <tr> \n",
       "        <th class=\"index_name level0\" >State</th> \n",
       "        <th class=\"blank\" ></th> \n",
       "        <th class=\"blank\" ></th> \n",
       "        <th class=\"blank\" ></th> \n",
       "    </tr></thead> \n",
       "<tbody>    <tr> \n",
       "        <th id=\"T_68a606f4_dbc8_11e8_b05a_3860774d51f3level0_row0\" class=\"row_heading level0 row0\" >AK</th> \n",
       "        <td id=\"T_68a606f4_dbc8_11e8_b05a_3860774d51f3row0_col0\" class=\"data row0 col0\" >122224</td> \n",
       "        <td id=\"T_68a606f4_dbc8_11e8_b05a_3860774d51f3row0_col1\" class=\"data row0 col1\" >281182</td> \n",
       "        <td id=\"T_68a606f4_dbc8_11e8_b05a_3860774d51f3row0_col2\" class=\"data row0 col2\" >158959</td> \n",
       "    </tr>    <tr> \n",
       "        <th id=\"T_68a606f4_dbc8_11e8_b05a_3860774d51f3level0_row1\" class=\"row_heading level0 row1\" >AL</th> \n",
       "        <td id=\"T_68a606f4_dbc8_11e8_b05a_3860774d51f3row1_col0\" class=\"data row1 col0\" >85170.7</td> \n",
       "        <td id=\"T_68a606f4_dbc8_11e8_b05a_3860774d51f3row1_col1\" class=\"data row1 col1\" >150937</td> \n",
       "        <td id=\"T_68a606f4_dbc8_11e8_b05a_3860774d51f3row1_col2\" class=\"data row1 col2\" >65766.5</td> \n",
       "    </tr>    <tr> \n",
       "        <th id=\"T_68a606f4_dbc8_11e8_b05a_3860774d51f3level0_row2\" class=\"row_heading level0 row2\" >AR</th> \n",
       "        <td id=\"T_68a606f4_dbc8_11e8_b05a_3860774d51f3row2_col0\" class=\"data row2 col0\" >65677.3</td> \n",
       "        <td id=\"T_68a606f4_dbc8_11e8_b05a_3860774d51f3row2_col1\" class=\"data row2 col1\" >133975</td> \n",
       "        <td id=\"T_68a606f4_dbc8_11e8_b05a_3860774d51f3row2_col2\" class=\"data row2 col2\" >68297.9</td> \n",
       "    </tr>    <tr> \n",
       "        <th id=\"T_68a606f4_dbc8_11e8_b05a_3860774d51f3level0_row3\" class=\"row_heading level0 row3\" >AZ</th> \n",
       "        <td id=\"T_68a606f4_dbc8_11e8_b05a_3860774d51f3row3_col0\" class=\"data row3 col0\" >106174</td> \n",
       "        <td id=\"T_68a606f4_dbc8_11e8_b05a_3860774d51f3row3_col1\" class=\"data row3 col1\" >242003</td> \n",
       "        <td id=\"T_68a606f4_dbc8_11e8_b05a_3860774d51f3row3_col2\" class=\"data row3 col2\" >135829</td> \n",
       "    </tr>    <tr> \n",
       "        <th id=\"T_68a606f4_dbc8_11e8_b05a_3860774d51f3level0_row4\" class=\"row_heading level0 row4\" >CA</th> \n",
       "        <td id=\"T_68a606f4_dbc8_11e8_b05a_3860774d51f3row4_col0\" class=\"data row4 col0\" >201173</td> \n",
       "        <td id=\"T_68a606f4_dbc8_11e8_b05a_3860774d51f3row4_col1\" class=\"data row4 col1\" >700797</td> \n",
       "        <td id=\"T_68a606f4_dbc8_11e8_b05a_3860774d51f3row4_col2\" class=\"data row4 col2\" >499624</td> \n",
       "    </tr>    <tr> \n",
       "        <th id=\"T_68a606f4_dbc8_11e8_b05a_3860774d51f3level0_row5\" class=\"row_heading level0 row5\" >CO</th> \n",
       "        <td id=\"T_68a606f4_dbc8_11e8_b05a_3860774d51f3row5_col0\" class=\"data row5 col0\" >159908</td> \n",
       "        <td id=\"T_68a606f4_dbc8_11e8_b05a_3860774d51f3row5_col1\" class=\"data row5 col1\" >468838</td> \n",
       "        <td id=\"T_68a606f4_dbc8_11e8_b05a_3860774d51f3row5_col2\" class=\"data row5 col2\" >308929</td> \n",
       "    </tr>    <tr> \n",
       "        <th id=\"T_68a606f4_dbc8_11e8_b05a_3860774d51f3level0_row6\" class=\"row_heading level0 row6\" >CT</th> \n",
       "        <td id=\"T_68a606f4_dbc8_11e8_b05a_3860774d51f3row6_col0\" class=\"data row6 col0\" >165142</td> \n",
       "        <td id=\"T_68a606f4_dbc8_11e8_b05a_3860774d51f3row6_col1\" class=\"data row6 col1\" >304503</td> \n",
       "        <td id=\"T_68a606f4_dbc8_11e8_b05a_3860774d51f3row6_col2\" class=\"data row6 col2\" >139361</td> \n",
       "    </tr>    <tr> \n",
       "        <th id=\"T_68a606f4_dbc8_11e8_b05a_3860774d51f3level0_row7\" class=\"row_heading level0 row7\" >DC</th> \n",
       "        <td id=\"T_68a606f4_dbc8_11e8_b05a_3860774d51f3row7_col0\" class=\"data row7 col0\" >121300</td> \n",
       "        <td id=\"T_68a606f4_dbc8_11e8_b05a_3860774d51f3row7_col1\" class=\"data row7 col1\" >682100</td> \n",
       "        <td id=\"T_68a606f4_dbc8_11e8_b05a_3860774d51f3row7_col2\" class=\"data row7 col2\" >560800</td> \n",
       "    </tr>    <tr> \n",
       "        <th id=\"T_68a606f4_dbc8_11e8_b05a_3860774d51f3level0_row8\" class=\"row_heading level0 row8\" >DE</th> \n",
       "        <td id=\"T_68a606f4_dbc8_11e8_b05a_3860774d51f3row8_col0\" class=\"data row8 col0\" >106100</td> \n",
       "        <td id=\"T_68a606f4_dbc8_11e8_b05a_3860774d51f3row8_col1\" class=\"data row8 col1\" >256271</td> \n",
       "        <td id=\"T_68a606f4_dbc8_11e8_b05a_3860774d51f3row8_col2\" class=\"data row8 col2\" >150171</td> \n",
       "    </tr>    <tr> \n",
       "        <th id=\"T_68a606f4_dbc8_11e8_b05a_3860774d51f3level0_row9\" class=\"row_heading level0 row9\" >FL</th> \n",
       "        <td id=\"T_68a606f4_dbc8_11e8_b05a_3860774d51f3row9_col0\" class=\"data row9 col0\" >112332</td> \n",
       "        <td id=\"T_68a606f4_dbc8_11e8_b05a_3860774d51f3row9_col1\" class=\"data row9 col1\" >330215</td> \n",
       "        <td id=\"T_68a606f4_dbc8_11e8_b05a_3860774d51f3row9_col2\" class=\"data row9 col2\" >217883</td> \n",
       "    </tr>    <tr> \n",
       "        <th id=\"T_68a606f4_dbc8_11e8_b05a_3860774d51f3level0_row10\" class=\"row_heading level0 row10\" >GA</th> \n",
       "        <td id=\"T_68a606f4_dbc8_11e8_b05a_3860774d51f3row10_col0\" class=\"data row10 col0\" >87795.4</td> \n",
       "        <td id=\"T_68a606f4_dbc8_11e8_b05a_3860774d51f3row10_col1\" class=\"data row10 col1\" >188527</td> \n",
       "        <td id=\"T_68a606f4_dbc8_11e8_b05a_3860774d51f3row10_col2\" class=\"data row10 col2\" >100732</td> \n",
       "    </tr>    <tr> \n",
       "        <th id=\"T_68a606f4_dbc8_11e8_b05a_3860774d51f3level0_row11\" class=\"row_heading level0 row11\" >HI</th> \n",
       "        <td id=\"T_68a606f4_dbc8_11e8_b05a_3860774d51f3row11_col0\" class=\"data row11 col0\" >194407</td> \n",
       "        <td id=\"T_68a606f4_dbc8_11e8_b05a_3860774d51f3row11_col1\" class=\"data row11 col1\" >620637</td> \n",
       "        <td id=\"T_68a606f4_dbc8_11e8_b05a_3860774d51f3row11_col2\" class=\"data row11 col2\" >426231</td> \n",
       "    </tr>    <tr> \n",
       "        <th id=\"T_68a606f4_dbc8_11e8_b05a_3860774d51f3level0_row12\" class=\"row_heading level0 row12\" >IA</th> \n",
       "        <td id=\"T_68a606f4_dbc8_11e8_b05a_3860774d51f3row12_col0\" class=\"data row12 col0\" >72046.8</td> \n",
       "        <td id=\"T_68a606f4_dbc8_11e8_b05a_3860774d51f3row12_col1\" class=\"data row12 col1\" >167225</td> \n",
       "        <td id=\"T_68a606f4_dbc8_11e8_b05a_3860774d51f3row12_col2\" class=\"data row12 col2\" >95178.5</td> \n",
       "    </tr>    <tr> \n",
       "        <th id=\"T_68a606f4_dbc8_11e8_b05a_3860774d51f3level0_row13\" class=\"row_heading level0 row13\" >ID</th> \n",
       "        <td id=\"T_68a606f4_dbc8_11e8_b05a_3860774d51f3row13_col0\" class=\"data row13 col0\" >90223.1</td> \n",
       "        <td id=\"T_68a606f4_dbc8_11e8_b05a_3860774d51f3row13_col1\" class=\"data row13 col1\" >237985</td> \n",
       "        <td id=\"T_68a606f4_dbc8_11e8_b05a_3860774d51f3row13_col2\" class=\"data row13 col2\" >147762</td> \n",
       "    </tr>    <tr> \n",
       "        <th id=\"T_68a606f4_dbc8_11e8_b05a_3860774d51f3level0_row14\" class=\"row_heading level0 row14\" >IL</th> \n",
       "        <td id=\"T_68a606f4_dbc8_11e8_b05a_3860774d51f3row14_col0\" class=\"data row14 col0\" >127737</td> \n",
       "        <td id=\"T_68a606f4_dbc8_11e8_b05a_3860774d51f3row14_col1\" class=\"data row14 col1\" >193840</td> \n",
       "        <td id=\"T_68a606f4_dbc8_11e8_b05a_3860774d51f3row14_col2\" class=\"data row14 col2\" >66102.3</td> \n",
       "    </tr>    <tr> \n",
       "        <th id=\"T_68a606f4_dbc8_11e8_b05a_3860774d51f3level0_row15\" class=\"row_heading level0 row15\" >IN</th> \n",
       "        <td id=\"T_68a606f4_dbc8_11e8_b05a_3860774d51f3row15_col0\" class=\"data row15 col0\" >86371.9</td> \n",
       "        <td id=\"T_68a606f4_dbc8_11e8_b05a_3860774d51f3row15_col1\" class=\"data row15 col1\" >130694</td> \n",
       "        <td id=\"T_68a606f4_dbc8_11e8_b05a_3860774d51f3row15_col2\" class=\"data row15 col2\" >44322.1</td> \n",
       "    </tr>    <tr> \n",
       "        <th id=\"T_68a606f4_dbc8_11e8_b05a_3860774d51f3level0_row16\" class=\"row_heading level0 row16\" >KS</th> \n",
       "        <td id=\"T_68a606f4_dbc8_11e8_b05a_3860774d51f3row16_col0\" class=\"data row16 col0\" >69861.6</td> \n",
       "        <td id=\"T_68a606f4_dbc8_11e8_b05a_3860774d51f3row16_col1\" class=\"data row16 col1\" >126706</td> \n",
       "        <td id=\"T_68a606f4_dbc8_11e8_b05a_3860774d51f3row16_col2\" class=\"data row16 col2\" >56844.9</td> \n",
       "    </tr>    <tr> \n",
       "        <th id=\"T_68a606f4_dbc8_11e8_b05a_3860774d51f3level0_row17\" class=\"row_heading level0 row17\" >KY</th> \n",
       "        <td id=\"T_68a606f4_dbc8_11e8_b05a_3860774d51f3row17_col0\" class=\"data row17 col0\" >78194.6</td> \n",
       "        <td id=\"T_68a606f4_dbc8_11e8_b05a_3860774d51f3row17_col1\" class=\"data row17 col1\" >145906</td> \n",
       "        <td id=\"T_68a606f4_dbc8_11e8_b05a_3860774d51f3row17_col2\" class=\"data row17 col2\" >67711</td> \n",
       "    </tr>    <tr> \n",
       "        <th id=\"T_68a606f4_dbc8_11e8_b05a_3860774d51f3level0_row18\" class=\"row_heading level0 row18\" >LA</th> \n",
       "        <td id=\"T_68a606f4_dbc8_11e8_b05a_3860774d51f3row18_col0\" class=\"data row18 col0\" >61715.4</td> \n",
       "        <td id=\"T_68a606f4_dbc8_11e8_b05a_3860774d51f3row18_col1\" class=\"data row18 col1\" >136964</td> \n",
       "        <td id=\"T_68a606f4_dbc8_11e8_b05a_3860774d51f3row18_col2\" class=\"data row18 col2\" >75249</td> \n",
       "    </tr>    <tr> \n",
       "        <th id=\"T_68a606f4_dbc8_11e8_b05a_3860774d51f3level0_row19\" class=\"row_heading level0 row19\" >MA</th> \n",
       "        <td id=\"T_68a606f4_dbc8_11e8_b05a_3860774d51f3row19_col0\" class=\"data row19 col0\" >161231</td> \n",
       "        <td id=\"T_68a606f4_dbc8_11e8_b05a_3860774d51f3row19_col1\" class=\"data row19 col1\" >437415</td> \n",
       "        <td id=\"T_68a606f4_dbc8_11e8_b05a_3860774d51f3row19_col2\" class=\"data row19 col2\" >276184</td> \n",
       "    </tr>    <tr> \n",
       "        <th id=\"T_68a606f4_dbc8_11e8_b05a_3860774d51f3level0_row20\" class=\"row_heading level0 row20\" >MD</th> \n",
       "        <td id=\"T_68a606f4_dbc8_11e8_b05a_3860774d51f3row20_col0\" class=\"data row20 col0\" >143774</td> \n",
       "        <td id=\"T_68a606f4_dbc8_11e8_b05a_3860774d51f3row20_col1\" class=\"data row20 col1\" >322914</td> \n",
       "        <td id=\"T_68a606f4_dbc8_11e8_b05a_3860774d51f3row20_col2\" class=\"data row20 col2\" >179140</td> \n",
       "    </tr>    <tr> \n",
       "        <th id=\"T_68a606f4_dbc8_11e8_b05a_3860774d51f3level0_row21\" class=\"row_heading level0 row21\" >ME</th> \n",
       "        <td id=\"T_68a606f4_dbc8_11e8_b05a_3860774d51f3row21_col0\" class=\"data row21 col0\" >92553.8</td> \n",
       "        <td id=\"T_68a606f4_dbc8_11e8_b05a_3860774d51f3row21_col1\" class=\"data row21 col1\" >245458</td> \n",
       "        <td id=\"T_68a606f4_dbc8_11e8_b05a_3860774d51f3row21_col2\" class=\"data row21 col2\" >152904</td> \n",
       "    </tr>    <tr> \n",
       "        <th id=\"T_68a606f4_dbc8_11e8_b05a_3860774d51f3level0_row22\" class=\"row_heading level0 row22\" >MI</th> \n",
       "        <td id=\"T_68a606f4_dbc8_11e8_b05a_3860774d51f3row22_col0\" class=\"data row22 col0\" >89065.2</td> \n",
       "        <td id=\"T_68a606f4_dbc8_11e8_b05a_3860774d51f3row22_col1\" class=\"data row22 col1\" >165337</td> \n",
       "        <td id=\"T_68a606f4_dbc8_11e8_b05a_3860774d51f3row22_col2\" class=\"data row22 col2\" >76272</td> \n",
       "    </tr>    <tr> \n",
       "        <th id=\"T_68a606f4_dbc8_11e8_b05a_3860774d51f3level0_row23\" class=\"row_heading level0 row23\" >MN</th> \n",
       "        <td id=\"T_68a606f4_dbc8_11e8_b05a_3860774d51f3row23_col0\" class=\"data row23 col0\" >89603.8</td> \n",
       "        <td id=\"T_68a606f4_dbc8_11e8_b05a_3860774d51f3row23_col1\" class=\"data row23 col1\" >221726</td> \n",
       "        <td id=\"T_68a606f4_dbc8_11e8_b05a_3860774d51f3row23_col2\" class=\"data row23 col2\" >132122</td> \n",
       "    </tr>    <tr> \n",
       "        <th id=\"T_68a606f4_dbc8_11e8_b05a_3860774d51f3level0_row24\" class=\"row_heading level0 row24\" >MO</th> \n",
       "        <td id=\"T_68a606f4_dbc8_11e8_b05a_3860774d51f3row24_col0\" class=\"data row24 col0\" >95932.4</td> \n",
       "        <td id=\"T_68a606f4_dbc8_11e8_b05a_3860774d51f3row24_col1\" class=\"data row24 col1\" >167133</td> \n",
       "        <td id=\"T_68a606f4_dbc8_11e8_b05a_3860774d51f3row24_col2\" class=\"data row24 col2\" >71200.5</td> \n",
       "    </tr>    <tr> \n",
       "        <th id=\"T_68a606f4_dbc8_11e8_b05a_3860774d51f3level0_row25\" class=\"row_heading level0 row25\" >MS</th> \n",
       "        <td id=\"T_68a606f4_dbc8_11e8_b05a_3860774d51f3row25_col0\" class=\"data row25 col0\" >85788.7</td> \n",
       "        <td id=\"T_68a606f4_dbc8_11e8_b05a_3860774d51f3row25_col1\" class=\"data row25 col1\" >113653</td> \n",
       "        <td id=\"T_68a606f4_dbc8_11e8_b05a_3860774d51f3row25_col2\" class=\"data row25 col2\" >27864.6</td> \n",
       "    </tr>    <tr> \n",
       "        <th id=\"T_68a606f4_dbc8_11e8_b05a_3860774d51f3level0_row26\" class=\"row_heading level0 row26\" >MT</th> \n",
       "        <td id=\"T_68a606f4_dbc8_11e8_b05a_3860774d51f3row26_col0\" class=\"data row26 col0\" >155502</td> \n",
       "        <td id=\"T_68a606f4_dbc8_11e8_b05a_3860774d51f3row26_col1\" class=\"data row26 col1\" >227815</td> \n",
       "        <td id=\"T_68a606f4_dbc8_11e8_b05a_3860774d51f3row26_col2\" class=\"data row26 col2\" >72312.1</td> \n",
       "    </tr>    <tr> \n",
       "        <th id=\"T_68a606f4_dbc8_11e8_b05a_3860774d51f3level0_row27\" class=\"row_heading level0 row27\" >NC</th> \n",
       "        <td id=\"T_68a606f4_dbc8_11e8_b05a_3860774d51f3row27_col0\" class=\"data row27 col0\" >83535.9</td> \n",
       "        <td id=\"T_68a606f4_dbc8_11e8_b05a_3860774d51f3row27_col1\" class=\"data row27 col1\" >183258</td> \n",
       "        <td id=\"T_68a606f4_dbc8_11e8_b05a_3860774d51f3row27_col2\" class=\"data row27 col2\" >99721.7</td> \n",
       "    </tr>    <tr> \n",
       "        <th id=\"T_68a606f4_dbc8_11e8_b05a_3860774d51f3level0_row28\" class=\"row_heading level0 row28\" >ND</th> \n",
       "        <td id=\"T_68a606f4_dbc8_11e8_b05a_3860774d51f3row28_col0\" class=\"data row28 col0\" >nan</td> \n",
       "        <td id=\"T_68a606f4_dbc8_11e8_b05a_3860774d51f3row28_col1\" class=\"data row28 col1\" >179693</td> \n",
       "        <td id=\"T_68a606f4_dbc8_11e8_b05a_3860774d51f3row28_col2\" class=\"data row28 col2\" >nan</td> \n",
       "    </tr>    <tr> \n",
       "        <th id=\"T_68a606f4_dbc8_11e8_b05a_3860774d51f3level0_row29\" class=\"row_heading level0 row29\" >NE</th> \n",
       "        <td id=\"T_68a606f4_dbc8_11e8_b05a_3860774d51f3row29_col0\" class=\"data row29 col0\" >77584.9</td> \n",
       "        <td id=\"T_68a606f4_dbc8_11e8_b05a_3860774d51f3row29_col1\" class=\"data row29 col1\" >162698</td> \n",
       "        <td id=\"T_68a606f4_dbc8_11e8_b05a_3860774d51f3row29_col2\" class=\"data row29 col2\" >85112.9</td> \n",
       "    </tr>    <tr> \n",
       "        <th id=\"T_68a606f4_dbc8_11e8_b05a_3860774d51f3level0_row30\" class=\"row_heading level0 row30\" >NH</th> \n",
       "        <td id=\"T_68a606f4_dbc8_11e8_b05a_3860774d51f3row30_col0\" class=\"data row30 col0\" >108061</td> \n",
       "        <td id=\"T_68a606f4_dbc8_11e8_b05a_3860774d51f3row30_col1\" class=\"data row30 col1\" >270342</td> \n",
       "        <td id=\"T_68a606f4_dbc8_11e8_b05a_3860774d51f3row30_col2\" class=\"data row30 col2\" >162281</td> \n",
       "    </tr>    <tr> \n",
       "        <th id=\"T_68a606f4_dbc8_11e8_b05a_3860774d51f3level0_row31\" class=\"row_heading level0 row31\" >NJ</th> \n",
       "        <td id=\"T_68a606f4_dbc8_11e8_b05a_3860774d51f3row31_col0\" class=\"data row31 col0\" >174846</td> \n",
       "        <td id=\"T_68a606f4_dbc8_11e8_b05a_3860774d51f3row31_col1\" class=\"data row31 col1\" >400447</td> \n",
       "        <td id=\"T_68a606f4_dbc8_11e8_b05a_3860774d51f3row31_col2\" class=\"data row31 col2\" >225601</td> \n",
       "    </tr>    <tr> \n",
       "        <th id=\"T_68a606f4_dbc8_11e8_b05a_3860774d51f3level0_row32\" class=\"row_heading level0 row32\" >NM</th> \n",
       "        <td id=\"T_68a606f4_dbc8_11e8_b05a_3860774d51f3row32_col0\" class=\"data row32 col0\" >136173</td> \n",
       "        <td id=\"T_68a606f4_dbc8_11e8_b05a_3860774d51f3row32_col1\" class=\"data row32 col1\" >211987</td> \n",
       "        <td id=\"T_68a606f4_dbc8_11e8_b05a_3860774d51f3row32_col2\" class=\"data row32 col2\" >75813.5</td> \n",
       "    </tr>    <tr> \n",
       "        <th id=\"T_68a606f4_dbc8_11e8_b05a_3860774d51f3level0_row33\" class=\"row_heading level0 row33\" >NV</th> \n",
       "        <td id=\"T_68a606f4_dbc8_11e8_b05a_3860774d51f3row33_col0\" class=\"data row33 col0\" >174919</td> \n",
       "        <td id=\"T_68a606f4_dbc8_11e8_b05a_3860774d51f3row33_col1\" class=\"data row33 col1\" >393617</td> \n",
       "        <td id=\"T_68a606f4_dbc8_11e8_b05a_3860774d51f3row33_col2\" class=\"data row33 col2\" >218698</td> \n",
       "    </tr>    <tr> \n",
       "        <th id=\"T_68a606f4_dbc8_11e8_b05a_3860774d51f3level0_row34\" class=\"row_heading level0 row34\" >NY</th> \n",
       "        <td id=\"T_68a606f4_dbc8_11e8_b05a_3860774d51f3row34_col0\" class=\"data row34 col0\" >116404</td> \n",
       "        <td id=\"T_68a606f4_dbc8_11e8_b05a_3860774d51f3row34_col1\" class=\"data row34 col1\" >277441</td> \n",
       "        <td id=\"T_68a606f4_dbc8_11e8_b05a_3860774d51f3row34_col2\" class=\"data row34 col2\" >161037</td> \n",
       "    </tr>    <tr> \n",
       "        <th id=\"T_68a606f4_dbc8_11e8_b05a_3860774d51f3level0_row35\" class=\"row_heading level0 row35\" >OH</th> \n",
       "        <td id=\"T_68a606f4_dbc8_11e8_b05a_3860774d51f3row35_col0\" class=\"data row35 col0\" >91265</td> \n",
       "        <td id=\"T_68a606f4_dbc8_11e8_b05a_3860774d51f3row35_col1\" class=\"data row35 col1\" >150545</td> \n",
       "        <td id=\"T_68a606f4_dbc8_11e8_b05a_3860774d51f3row35_col2\" class=\"data row35 col2\" >59280.3</td> \n",
       "    </tr>    <tr> \n",
       "        <th id=\"T_68a606f4_dbc8_11e8_b05a_3860774d51f3level0_row36\" class=\"row_heading level0 row36\" >OK</th> \n",
       "        <td id=\"T_68a606f4_dbc8_11e8_b05a_3860774d51f3row36_col0\" class=\"data row36 col0\" >47788</td> \n",
       "        <td id=\"T_68a606f4_dbc8_11e8_b05a_3860774d51f3row36_col1\" class=\"data row36 col1\" >104135</td> \n",
       "        <td id=\"T_68a606f4_dbc8_11e8_b05a_3860774d51f3row36_col2\" class=\"data row36 col2\" >56346.7</td> \n",
       "    </tr>    <tr> \n",
       "        <th id=\"T_68a606f4_dbc8_11e8_b05a_3860774d51f3level0_row37\" class=\"row_heading level0 row37\" >OR</th> \n",
       "        <td id=\"T_68a606f4_dbc8_11e8_b05a_3860774d51f3row37_col0\" class=\"data row37 col0\" >119324</td> \n",
       "        <td id=\"T_68a606f4_dbc8_11e8_b05a_3860774d51f3row37_col1\" class=\"data row37 col1\" >306325</td> \n",
       "        <td id=\"T_68a606f4_dbc8_11e8_b05a_3860774d51f3row37_col2\" class=\"data row37 col2\" >187000</td> \n",
       "    </tr>    <tr> \n",
       "        <th id=\"T_68a606f4_dbc8_11e8_b05a_3860774d51f3level0_row38\" class=\"row_heading level0 row38\" >PA</th> \n",
       "        <td id=\"T_68a606f4_dbc8_11e8_b05a_3860774d51f3row38_col0\" class=\"data row38 col0\" >92689.8</td> \n",
       "        <td id=\"T_68a606f4_dbc8_11e8_b05a_3860774d51f3row38_col1\" class=\"data row38 col1\" >187818</td> \n",
       "        <td id=\"T_68a606f4_dbc8_11e8_b05a_3860774d51f3row38_col2\" class=\"data row38 col2\" >95127.9</td> \n",
       "    </tr>    <tr> \n",
       "        <th id=\"T_68a606f4_dbc8_11e8_b05a_3860774d51f3level0_row39\" class=\"row_heading level0 row39\" >RI</th> \n",
       "        <td id=\"T_68a606f4_dbc8_11e8_b05a_3860774d51f3row39_col0\" class=\"data row39 col0\" >131017</td> \n",
       "        <td id=\"T_68a606f4_dbc8_11e8_b05a_3860774d51f3row39_col1\" class=\"data row39 col1\" >333255</td> \n",
       "        <td id=\"T_68a606f4_dbc8_11e8_b05a_3860774d51f3row39_col2\" class=\"data row39 col2\" >202238</td> \n",
       "    </tr>    <tr> \n",
       "        <th id=\"T_68a606f4_dbc8_11e8_b05a_3860774d51f3level0_row40\" class=\"row_heading level0 row40\" >SC</th> \n",
       "        <td id=\"T_68a606f4_dbc8_11e8_b05a_3860774d51f3row40_col0\" class=\"data row40 col0\" >79368.2</td> \n",
       "        <td id=\"T_68a606f4_dbc8_11e8_b05a_3860774d51f3row40_col1\" class=\"data row40 col1\" >186327</td> \n",
       "        <td id=\"T_68a606f4_dbc8_11e8_b05a_3860774d51f3row40_col2\" class=\"data row40 col2\" >106958</td> \n",
       "    </tr>    <tr> \n",
       "        <th id=\"T_68a606f4_dbc8_11e8_b05a_3860774d51f3level0_row41\" class=\"row_heading level0 row41\" >SD</th> \n",
       "        <td id=\"T_68a606f4_dbc8_11e8_b05a_3860774d51f3row41_col0\" class=\"data row41 col0\" >63822.2</td> \n",
       "        <td id=\"T_68a606f4_dbc8_11e8_b05a_3860774d51f3row41_col1\" class=\"data row41 col1\" >205343</td> \n",
       "        <td id=\"T_68a606f4_dbc8_11e8_b05a_3860774d51f3row41_col2\" class=\"data row41 col2\" >141521</td> \n",
       "    </tr>    <tr> \n",
       "        <th id=\"T_68a606f4_dbc8_11e8_b05a_3860774d51f3level0_row42\" class=\"row_heading level0 row42\" >TN</th> \n",
       "        <td id=\"T_68a606f4_dbc8_11e8_b05a_3860774d51f3row42_col0\" class=\"data row42 col0\" >61020.3</td> \n",
       "        <td id=\"T_68a606f4_dbc8_11e8_b05a_3860774d51f3row42_col1\" class=\"data row42 col1\" >142833</td> \n",
       "        <td id=\"T_68a606f4_dbc8_11e8_b05a_3860774d51f3row42_col2\" class=\"data row42 col2\" >81812.3</td> \n",
       "    </tr>    <tr> \n",
       "        <th id=\"T_68a606f4_dbc8_11e8_b05a_3860774d51f3level0_row43\" class=\"row_heading level0 row43\" >TX</th> \n",
       "        <td id=\"T_68a606f4_dbc8_11e8_b05a_3860774d51f3row43_col0\" class=\"data row43 col0\" >105414</td> \n",
       "        <td id=\"T_68a606f4_dbc8_11e8_b05a_3860774d51f3row43_col1\" class=\"data row43 col1\" >194387</td> \n",
       "        <td id=\"T_68a606f4_dbc8_11e8_b05a_3860774d51f3row43_col2\" class=\"data row43 col2\" >88973.2</td> \n",
       "    </tr>    <tr> \n",
       "        <th id=\"T_68a606f4_dbc8_11e8_b05a_3860774d51f3level0_row44\" class=\"row_heading level0 row44\" >UT</th> \n",
       "        <td id=\"T_68a606f4_dbc8_11e8_b05a_3860774d51f3row44_col0\" class=\"data row44 col0\" >159920</td> \n",
       "        <td id=\"T_68a606f4_dbc8_11e8_b05a_3860774d51f3row44_col1\" class=\"data row44 col1\" >317960</td> \n",
       "        <td id=\"T_68a606f4_dbc8_11e8_b05a_3860774d51f3row44_col2\" class=\"data row44 col2\" >158040</td> \n",
       "    </tr>    <tr> \n",
       "        <th id=\"T_68a606f4_dbc8_11e8_b05a_3860774d51f3level0_row45\" class=\"row_heading level0 row45\" >VA</th> \n",
       "        <td id=\"T_68a606f4_dbc8_11e8_b05a_3860774d51f3row45_col0\" class=\"data row45 col0\" >110800</td> \n",
       "        <td id=\"T_68a606f4_dbc8_11e8_b05a_3860774d51f3row45_col1\" class=\"data row45 col1\" >251824</td> \n",
       "        <td id=\"T_68a606f4_dbc8_11e8_b05a_3860774d51f3row45_col2\" class=\"data row45 col2\" >141023</td> \n",
       "    </tr>    <tr> \n",
       "        <th id=\"T_68a606f4_dbc8_11e8_b05a_3860774d51f3level0_row46\" class=\"row_heading level0 row46\" >VT</th> \n",
       "        <td id=\"T_68a606f4_dbc8_11e8_b05a_3860774d51f3row46_col0\" class=\"data row46 col0\" >98613.6</td> \n",
       "        <td id=\"T_68a606f4_dbc8_11e8_b05a_3860774d51f3row46_col1\" class=\"data row46 col1\" >215352</td> \n",
       "        <td id=\"T_68a606f4_dbc8_11e8_b05a_3860774d51f3row46_col2\" class=\"data row46 col2\" >116738</td> \n",
       "    </tr>    <tr> \n",
       "        <th id=\"T_68a606f4_dbc8_11e8_b05a_3860774d51f3level0_row47\" class=\"row_heading level0 row47\" >WA</th> \n",
       "        <td id=\"T_68a606f4_dbc8_11e8_b05a_3860774d51f3row47_col0\" class=\"data row47 col0\" >139469</td> \n",
       "        <td id=\"T_68a606f4_dbc8_11e8_b05a_3860774d51f3row47_col1\" class=\"data row47 col1\" >383163</td> \n",
       "        <td id=\"T_68a606f4_dbc8_11e8_b05a_3860774d51f3row47_col2\" class=\"data row47 col2\" >243694</td> \n",
       "    </tr>    <tr> \n",
       "        <th id=\"T_68a606f4_dbc8_11e8_b05a_3860774d51f3level0_row48\" class=\"row_heading level0 row48\" >WI</th> \n",
       "        <td id=\"T_68a606f4_dbc8_11e8_b05a_3860774d51f3row48_col0\" class=\"data row48 col0\" >117401</td> \n",
       "        <td id=\"T_68a606f4_dbc8_11e8_b05a_3860774d51f3row48_col1\" class=\"data row48 col1\" >202623</td> \n",
       "        <td id=\"T_68a606f4_dbc8_11e8_b05a_3860774d51f3row48_col2\" class=\"data row48 col2\" >85221.5</td> \n",
       "    </tr>    <tr> \n",
       "        <th id=\"T_68a606f4_dbc8_11e8_b05a_3860774d51f3level0_row49\" class=\"row_heading level0 row49\" >WV</th> \n",
       "        <td id=\"T_68a606f4_dbc8_11e8_b05a_3860774d51f3row49_col0\" class=\"data row49 col0\" >61441.9</td> \n",
       "        <td id=\"T_68a606f4_dbc8_11e8_b05a_3860774d51f3row49_col1\" class=\"data row49 col1\" >118407</td> \n",
       "        <td id=\"T_68a606f4_dbc8_11e8_b05a_3860774d51f3row49_col2\" class=\"data row49 col2\" >56965</td> \n",
       "    </tr>    <tr> \n",
       "        <th id=\"T_68a606f4_dbc8_11e8_b05a_3860774d51f3level0_row50\" class=\"row_heading level0 row50\" >WY</th> \n",
       "        <td id=\"T_68a606f4_dbc8_11e8_b05a_3860774d51f3row50_col0\" class=\"data row50 col0\" >141684</td> \n",
       "        <td id=\"T_68a606f4_dbc8_11e8_b05a_3860774d51f3row50_col1\" class=\"data row50 col1\" >241512</td> \n",
       "        <td id=\"T_68a606f4_dbc8_11e8_b05a_3860774d51f3row50_col2\" class=\"data row50 col2\" >99827.8</td> \n",
       "    </tr></tbody> \n",
       "</table> "
      ],
      "text/plain": [
       "<pandas.io.formats.style.Styler at 0xf98fc88>"
      ]
     },
     "execution_count": 27,
     "metadata": {},
     "output_type": "execute_result"
    }
   ],
   "source": [
    "hv_by_state.style.highlight_max(['Difference'])"
   ]
  },
  {
   "cell_type": "markdown",
   "metadata": {},
   "source": [
    "Answer to Q8: home values went up the most in DC"
   ]
  },
  {
   "cell_type": "markdown",
   "metadata": {},
   "source": [
    "## Plotting with Pandas"
   ]
  },
  {
   "cell_type": "markdown",
   "metadata": {},
   "source": [
    "Suppose we would like to visualize how the home values in Seattle changed over the last 22 years. This will be our foundation for later forecasting the home value in Seattle using time-series analysis. "
   ]
  },
  {
   "cell_type": "markdown",
   "metadata": {},
   "source": [
    "Let's select the row of data for Seattle."
   ]
  },
  {
   "cell_type": "code",
   "execution_count": 28,
   "metadata": {},
   "outputs": [
    {
     "name": "stdout",
     "output_type": "stream",
     "text": [
      "       City   1996-04   1996-05   1996-06   1996-07   1996-08   1996-09  \\\n",
      "21  Seattle  169100.0  169300.0  169500.0  169900.0  170400.0  171000.0   \n",
      "\n",
      "     1996-10   1996-11   1996-12   ...     2017-08  2017-09  2017-10  2017-11  \\\n",
      "21  171700.0  172600.0  173700.0   ...      737200   743300   751000   760000   \n",
      "\n",
      "    2017-12  2018-01  2018-02  2018-03  2018-04  2018-05  \n",
      "21   769700   782300   792600   795800   797200   799000  \n",
      "\n",
      "[1 rows x 267 columns]\n"
     ]
    }
   ],
   "source": [
    "seattle_hv = hv_clean.loc[hv_clean['City'] == 'Seattle'].drop(columns = ['State', 'Comparison'])\n",
    "print(seattle_hv)"
   ]
  },
  {
   "cell_type": "code",
   "execution_count": 29,
   "metadata": {},
   "outputs": [
    {
     "name": "stdout",
     "output_type": "stream",
     "text": [
      "     1996-04   1996-05   1996-06   1996-07   1996-08   1996-09   1996-10  \\\n",
      "21  169100.0  169300.0  169500.0  169900.0  170400.0  171000.0  171700.0   \n",
      "\n",
      "     1996-11   1996-12   1997-01   ...     2017-08  2017-09  2017-10  2017-11  \\\n",
      "21  172600.0  173700.0  175000.0   ...      737200   743300   751000   760000   \n",
      "\n",
      "    2017-12  2018-01  2018-02  2018-03  2018-04  2018-05  \n",
      "21   769700   782300   792600   795800   797200   799000  \n",
      "\n",
      "[1 rows x 266 columns]\n"
     ]
    }
   ],
   "source": [
    "seattle_hv = seattle_hv.drop(columns = ['City'])\n",
    "print(seattle_hv)"
   ]
  },
  {
   "cell_type": "markdown",
   "metadata": {},
   "source": [
    "Let's work on the structure of our dataframe. We need to tidy our data.\n",
    "Tidy data means that each variable should form a column and each observation should form a row.\n",
    "This particular dataset contains variable values as column names. We will need to transpose these column names into column values."
   ]
  },
  {
   "cell_type": "code",
   "execution_count": 30,
   "metadata": {},
   "outputs": [
    {
     "name": "stdout",
     "output_type": "stream",
     "text": [
      "21  1996-04    169100.0\n",
      "    1996-05    169300.0\n",
      "    1996-06    169500.0\n",
      "    1996-07    169900.0\n",
      "    1996-08    170400.0\n",
      "    1996-09    171000.0\n",
      "    1996-10    171700.0\n",
      "    1996-11    172600.0\n",
      "    1996-12    173700.0\n",
      "    1997-01    175000.0\n",
      "dtype: float64\n"
     ]
    }
   ],
   "source": [
    "seattle_restr = seattle_hv.stack()\n",
    "print(seattle_restr.head(10))"
   ]
  },
  {
   "cell_type": "code",
   "execution_count": 31,
   "metadata": {},
   "outputs": [
    {
     "name": "stdout",
     "output_type": "stream",
     "text": [
      "   level_0  level_1         0\n",
      "0       21  1996-04  169100.0\n",
      "1       21  1996-05  169300.0\n",
      "2       21  1996-06  169500.0\n",
      "3       21  1996-07  169900.0\n",
      "4       21  1996-08  170400.0\n",
      "5       21  1996-09  171000.0\n",
      "6       21  1996-10  171700.0\n",
      "7       21  1996-11  172600.0\n",
      "8       21  1996-12  173700.0\n",
      "9       21  1997-01  175000.0\n"
     ]
    }
   ],
   "source": [
    "seattle_restr = seattle_restr.reset_index()\n",
    "print(seattle_restr.head(10))"
   ]
  },
  {
   "cell_type": "markdown",
   "metadata": {},
   "source": [
    "At the end we get a clean data set with Datastamp column and its corresponding values. \n",
    "We can use this dataset in future forecating models."
   ]
  },
  {
   "cell_type": "code",
   "execution_count": 32,
   "metadata": {},
   "outputs": [
    {
     "name": "stdout",
     "output_type": "stream",
     "text": [
      "   level_1         0\n",
      "0  1996-04  169100.0\n",
      "1  1996-05  169300.0\n",
      "2  1996-06  169500.0\n",
      "3  1996-07  169900.0\n",
      "4  1996-08  170400.0\n",
      "5  1996-09  171000.0\n",
      "6  1996-10  171700.0\n",
      "7  1996-11  172600.0\n",
      "8  1996-12  173700.0\n",
      "9  1997-01  175000.0\n"
     ]
    }
   ],
   "source": [
    "seattle_restr = seattle_restr.drop(columns='level_0')\n",
    "print(seattle_restr.head(10))"
   ]
  },
  {
   "cell_type": "markdown",
   "metadata": {},
   "source": [
    "Let's rename the column header to something more clear, like 'YYYY-MM'."
   ]
  },
  {
   "cell_type": "code",
   "execution_count": 33,
   "metadata": {},
   "outputs": [
    {
     "name": "stdout",
     "output_type": "stream",
     "text": [
      "   YYYY-MM         0\n",
      "0  1996-04  169100.0\n",
      "1  1996-05  169300.0\n",
      "2  1996-06  169500.0\n",
      "3  1996-07  169900.0\n",
      "4  1996-08  170400.0\n",
      "5  1996-09  171000.0\n",
      "6  1996-10  171700.0\n",
      "7  1996-11  172600.0\n",
      "8  1996-12  173700.0\n",
      "9  1997-01  175000.0\n"
     ]
    }
   ],
   "source": [
    "colNames = {'level_1': 'YYYY-MM'}\n",
    "seattle_restr = seattle_restr.rename(columns = colNames)\n",
    "print(seattle_restr.head(10))"
   ]
  },
  {
   "cell_type": "code",
   "execution_count": 34,
   "metadata": {},
   "outputs": [
    {
     "name": "stdout",
     "output_type": "stream",
     "text": [
      "                0\n",
      "YYYY-MM          \n",
      "1996-04  169100.0\n",
      "1996-05  169300.0\n",
      "1996-06  169500.0\n",
      "1996-07  169900.0\n",
      "1996-08  170400.0\n",
      "1996-09  171000.0\n",
      "1996-10  171700.0\n",
      "1996-11  172600.0\n",
      "1996-12  173700.0\n",
      "1997-01  175000.0\n"
     ]
    }
   ],
   "source": [
    "seattle_restr = seattle_restr.set_index('YYYY-MM')\n",
    "print(seattle_restr.head(10))"
   ]
  },
  {
   "cell_type": "code",
   "execution_count": 35,
   "metadata": {},
   "outputs": [],
   "source": [
    "seattle_restr.index = pd.to_datetime(seattle_restr.index)"
   ]
  },
  {
   "cell_type": "code",
   "execution_count": 36,
   "metadata": {},
   "outputs": [],
   "source": [
    "labels = seattle_restr.index.values"
   ]
  },
  {
   "cell_type": "code",
   "execution_count": 37,
   "metadata": {},
   "outputs": [],
   "source": [
    "labels = labels.tolist()"
   ]
  },
  {
   "cell_type": "markdown",
   "metadata": {},
   "source": [
    "Lastly, we'll use matplotlib to create a line plot of the data. "
   ]
  },
  {
   "cell_type": "code",
   "execution_count": 38,
   "metadata": {},
   "outputs": [
    {
     "ename": "MemoryError",
     "evalue": "",
     "output_type": "error",
     "traceback": [
      "\u001b[1;31m---------------------------------------------------------------------------\u001b[0m",
      "\u001b[1;31mMemoryError\u001b[0m                               Traceback (most recent call last)",
      "\u001b[1;32m<ipython-input-38-36df00dd03ae>\u001b[0m in \u001b[0;36m<module>\u001b[1;34m()\u001b[0m\n\u001b[0;32m      4\u001b[0m \u001b[0max\u001b[0m\u001b[1;33m.\u001b[0m\u001b[0mset_ylabel\u001b[0m\u001b[1;33m(\u001b[0m\u001b[1;34m'Home Values'\u001b[0m\u001b[1;33m,\u001b[0m \u001b[0mfontsize\u001b[0m \u001b[1;33m=\u001b[0m \u001b[1;36m20\u001b[0m\u001b[1;33m)\u001b[0m\u001b[1;33m\u001b[0m\u001b[0m\n\u001b[0;32m      5\u001b[0m \u001b[0max\u001b[0m\u001b[1;33m.\u001b[0m\u001b[0mgrid\u001b[0m\u001b[1;33m(\u001b[0m\u001b[1;33m)\u001b[0m\u001b[1;33m\u001b[0m\u001b[0m\n\u001b[1;32m----> 6\u001b[1;33m \u001b[0mticks\u001b[0m \u001b[1;33m=\u001b[0m \u001b[0mnp\u001b[0m\u001b[1;33m.\u001b[0m\u001b[0marange\u001b[0m\u001b[1;33m(\u001b[0m\u001b[0mlabels\u001b[0m\u001b[1;33m[\u001b[0m\u001b[1;36m0\u001b[0m\u001b[1;33m]\u001b[0m\u001b[1;33m,\u001b[0m \u001b[0mlabels\u001b[0m\u001b[1;33m[\u001b[0m\u001b[1;36m265\u001b[0m\u001b[1;33m]\u001b[0m\u001b[1;33m)\u001b[0m\u001b[1;33m\u001b[0m\u001b[0m\n\u001b[0m\u001b[0;32m      7\u001b[0m \u001b[0max\u001b[0m\u001b[1;33m.\u001b[0m\u001b[0mset_xticks\u001b[0m\u001b[1;33m(\u001b[0m\u001b[0mticks\u001b[0m\u001b[1;33m)\u001b[0m\u001b[1;33m\u001b[0m\u001b[0m\n\u001b[0;32m      8\u001b[0m \u001b[0max\u001b[0m\u001b[1;33m.\u001b[0m\u001b[0mset_xticklabels\u001b[0m\u001b[1;33m(\u001b[0m\u001b[0mseattle_restr\u001b[0m\u001b[1;33m.\u001b[0m\u001b[0mindex\u001b[0m\u001b[1;33m,\u001b[0m \u001b[0mfontsize\u001b[0m \u001b[1;33m=\u001b[0m \u001b[1;36m15\u001b[0m\u001b[1;33m,\u001b[0m \u001b[0mrotation\u001b[0m \u001b[1;33m=\u001b[0m \u001b[1;36m17\u001b[0m\u001b[1;33m)\u001b[0m\u001b[1;33m\u001b[0m\u001b[0m\n",
      "\u001b[1;31mMemoryError\u001b[0m: "
     ]
    },
    {
     "data": {
      "image/png": "[encoded data removed]",
      "text/plain": [
       "<Figure size 1440x432 with 1 Axes>"
      ]
     },
     "metadata": {},
     "output_type": "display_data"
    }
   ],
   "source": [
    "ax = seattle_restr.plot(figsize=(20, 6), title='Home Values In Seattle 1996-2018', linewidth = 3, color = 'k')\n",
    "ax.legend('$', loc='upper left')\n",
    "ax.set_xlabel('Years', fontsize = 20)\n",
    "ax.set_ylabel('Home Values', fontsize = 20)\n",
    "ax.grid()\n",
    "ticks = np.arange(labels[0], labels[265])\n",
    "ax.set_xticks(ticks)\n",
    "ax.set_xticklabels(seattle_restr.index, fontsize = 15, rotation = 17)"
   ]
  }
 ],
 "metadata": {
  "kernelspec": {
   "display_name": "Python 3",
   "language": "python",
   "name": "python3"
  },
  "language_info": {
   "codemirror_mode": {
    "name": "ipython",
    "version": 3
   },
   "file_extension": ".py",
   "mimetype": "text/x-python",
   "name": "python",
   "nbconvert_exporter": "python",
   "pygments_lexer": "ipython3",
   "version": "3.6.4"
  }
 },
 "nbformat": 4,
 "nbformat_minor": 2
}
